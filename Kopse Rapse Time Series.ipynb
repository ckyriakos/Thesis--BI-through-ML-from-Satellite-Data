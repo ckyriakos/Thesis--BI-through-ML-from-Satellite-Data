{
 "cells": [
  {
   "cell_type": "markdown",
   "id": "568caefb",
   "metadata": {},
   "source": [
    "### Overview\n",
    "\n",
    "#### Part 1:\n",
    "\n",
    "1. Define the Area-of-Interest (AOI):\n",
    "   * Obtain the outline of Slovenia (provided)\n",
    "   * Split into manageable smaller tiles\n",
    "   * Select a small 5x5 area for classification\n",
    "2. Use the integrated [sentinelhub-py](https://github.com/sentinel-hub/sentinelhub-py) package in order to fill the EOPatches with some content (band data, cloud masks, ...)\n",
    "   * Define the time interval (this example uses the whole year of 2019)\n",
    "3. Add additional information from band combinations (norm. vegetation index - NDVI, norm. water index - NDWI)\n",
    "4. Add a reference map (provided)\n",
    "   * Convert provided vector data to raster and add it to EOPatches\n",
    "   \n",
    "#### Part 2:\n",
    "\n",
    "5. Prepare the training data\n",
    "   * Remove too cloudy scenes\n",
    "   * Perform temporal interpolation (filling gaps and resampling to the same dates)\n",
    "   * Apply erosion \n",
    "   * Random spatial sampling of the EOPatches\n",
    "   * Split patches for training/validation\n",
    "6. Construct and train the ML model\n",
    "   * Make the prediction for each patch \n",
    "7. Validate the model\n",
    "8. Visualise the results\n",
    "\n",
    "Let's start!"
   ]
  },
  {
   "cell_type": "code",
   "execution_count": 92,
   "id": "a8229f08",
   "metadata": {},
   "outputs": [],
   "source": [
    "#\n",
    "import rasterio\n",
    "import geopandas as gpd\n",
    "import numpy as np\n",
    "import matplotlib.pyplot as plt\n",
    "import requests\n",
    "import json\n",
    "import datetime\n",
    "import pandas as pd\n",
    "import folium\n",
    "import h3\n",
    "import time\n",
    "from datetime import timedelta\n",
    "\n",
    "from pprint import pprint\n",
    "from rasterio.features import Window\n",
    "from rasterio.windows import bounds\n",
    "from shapely.geometry import MultiPolygon, box,Polygon\n",
    "from PIL import Image\n",
    "from rasterio.features import Window\n",
    "from subprocess import call\n",
    "from IPython import display\n",
    "\n",
    "# reminder that if you are installing libraries in a Google Colab instance you will be prompted to restart your kernal\n",
    "import seaborn as sns\n",
    "\n",
    "import statsmodels.api as sm\n",
    "from scipy import stats\n",
    "import plotly.offline as py\n",
    "import plotly.graph_objs as go\n",
    "\n",
    "from ipyleaflet import GeoJSON\n",
    "from geemap import geojson_to_ee, ee_to_geojson,geemap\n",
    "\n",
    "#Map = geemap.Map()\n",
    "#ee_data = geojson_to_ee('./data/planet_22.6586,39.256_23.2218,39.4689.geojson')\n",
    "#Map.addLayer(ee_data, {}, \"Volos\")"
   ]
  },
  {
   "cell_type": "code",
   "execution_count": 42,
   "id": "9fb6a3f7",
   "metadata": {},
   "outputs": [],
   "source": [
    "try:\n",
    "    import geemap, ee\n",
    "except ModuleNotFoundError:\n",
    "    if 'google.colab' in str(get_ipython()):\n",
    "        print(\"package not found, installing w/ pip in Google Colab...\")\n",
    "        !pip install geemap\n",
    "    else:\n",
    "        print(\"package not found, installing w/ conda...\")\n",
    "        !conda install mamba -c conda-forge -y\n",
    "        !mamba install geemap -c conda-forge -y\n",
    "    import geemap, ee\n",
    "    "
   ]
  },
  {
   "cell_type": "code",
   "execution_count": 43,
   "id": "1bf3aa6e",
   "metadata": {},
   "outputs": [],
   "source": [
    "try:\n",
    "        geemap.ee_initialize()\n",
    "except Exception as e:\n",
    "        geemap.ee_initialize()\n",
    "        geemap.ee_initialize()\n",
    "\n"
   ]
  },
  {
   "cell_type": "markdown",
   "id": "e5481e83",
   "metadata": {},
   "source": [
    "### Define Area of Interest ( VOLOS CASE STUDY)"
   ]
  },
  {
   "cell_type": "code",
   "execution_count": 4,
   "id": "5775e715",
   "metadata": {},
   "outputs": [],
   "source": [
    "#this could also be done with a function, but I should provide a list with available names\n",
    "\n",
    "greece_gdf = gpd.read_file(\"./data/kontur_boundaries_GR_20220407.gpkg\") #read greece geopackage\n",
    "greece_fc = geemap.geopandas_to_ee(greece_gdf)\n",
    "\n",
    "# # select shapefile only for volos and make feature collection\n",
    "# volos_gdf = greece_gdf[greece_gdf['name_en']=='Volos Municipality'] \n",
    "# volos_fc = geemap.geopandas_to_ee(volos_gdf) \n",
    "\n",
    "# # select shapefles for Trikala Municipality and Trikala Regional Unit shapefile, then\n",
    "# # make feature collection for trikala municipality and for trikala regional unit\n",
    "# trikala_mun_gdf = greece_gdf[greece_gdf['name_en']=='Trikala Municipality'] \n",
    "# trikala_regunit_gdf = greece_gdf[greece_gdf['name_en']=='Trikala Regional Unit']\n",
    "\n",
    "# trikala_mun_fc = geemap.geopandas_to_ee(trikala_mun_gdf) \n",
    "# trikala_regun_fc = geemap.geopandas_to_ee(trikala_regunit_gdf) #\n",
    "\n"
   ]
  },
  {
   "cell_type": "markdown",
   "id": "45b3e402",
   "metadata": {},
   "source": [
    "# Resources : \n",
    "https://gis.stackexchange.com/questions/231959/draw-a-grid-of-polygons-in-google-earth-engine"
   ]
  },
  {
   "cell_type": "code",
   "execution_count": 337,
   "id": "4fa3f590",
   "metadata": {},
   "outputs": [],
   "source": [
    "#Read geojsons for volos_municipality"
   ]
  },
  {
   "cell_type": "code",
   "execution_count": 44,
   "id": "15627e2f",
   "metadata": {},
   "outputs": [
    {
     "data": {
      "text/html": [
       "<div>\n",
       "<style scoped>\n",
       "    .dataframe tbody tr th:only-of-type {\n",
       "        vertical-align: middle;\n",
       "    }\n",
       "\n",
       "    .dataframe tbody tr th {\n",
       "        vertical-align: top;\n",
       "    }\n",
       "\n",
       "    .dataframe thead th {\n",
       "        text-align: right;\n",
       "    }\n",
       "</style>\n",
       "<table border=\"1\" class=\"dataframe\">\n",
       "  <thead>\n",
       "    <tr style=\"text-align: right;\">\n",
       "      <th></th>\n",
       "      <th>admin_level</th>\n",
       "      <th>name</th>\n",
       "      <th>name_en</th>\n",
       "      <th>population</th>\n",
       "      <th>hasc</th>\n",
       "      <th>geometry</th>\n",
       "    </tr>\n",
       "  </thead>\n",
       "  <tbody>\n",
       "    <tr>\n",
       "      <th>0</th>\n",
       "      <td>8</td>\n",
       "      <td>Δήμος Βόλου</td>\n",
       "      <td>Volos Municipality</td>\n",
       "      <td>135726.0</td>\n",
       "      <td>None</td>\n",
       "      <td>MULTIPOLYGON (((22.67119 39.25449, 22.67135 39...</td>\n",
       "    </tr>\n",
       "  </tbody>\n",
       "</table>\n",
       "</div>"
      ],
      "text/plain": [
       "   admin_level         name             name_en  population  hasc  \\\n",
       "0            8  Δήμος Βόλου  Volos Municipality    135726.0  None   \n",
       "\n",
       "                                            geometry  \n",
       "0  MULTIPOLYGON (((22.67119 39.25449, 22.67135 39...  "
      ]
     },
     "execution_count": 44,
     "metadata": {},
     "output_type": "execute_result"
    }
   ],
   "source": [
    "volos_municipality = gpd.read_file(\"./data/geojson/volos_municipality.geojson\")\n",
    "user= gpd.read_file(\"./data/geojson/volos_fil.geojson\")\n",
    "volos_1 = gpd.read_file(\"./data/geojson/volos_1.geojson\")\n",
    "#a = gpd.read_file(\"./data/geojson/turbo_volos_bldgs.geojson\")\n",
    "volos_municipality"
   ]
  },
  {
   "cell_type": "code",
   "execution_count": 342,
   "id": "dd623640",
   "metadata": {
    "scrolled": true
   },
   "outputs": [
    {
     "data": {
      "text/html": [
       "<div>\n",
       "<style scoped>\n",
       "    .dataframe tbody tr th:only-of-type {\n",
       "        vertical-align: middle;\n",
       "    }\n",
       "\n",
       "    .dataframe tbody tr th {\n",
       "        vertical-align: top;\n",
       "    }\n",
       "\n",
       "    .dataframe thead th {\n",
       "        text-align: right;\n",
       "    }\n",
       "</style>\n",
       "<table border=\"1\" class=\"dataframe\">\n",
       "  <thead>\n",
       "    <tr style=\"text-align: right;\">\n",
       "      <th></th>\n",
       "      <th>minx</th>\n",
       "      <th>miny</th>\n",
       "      <th>maxx</th>\n",
       "      <th>maxy</th>\n",
       "    </tr>\n",
       "  </thead>\n",
       "  <tbody>\n",
       "    <tr>\n",
       "      <th>0</th>\n",
       "      <td>22.671186</td>\n",
       "      <td>39.229203</td>\n",
       "      <td>23.105349</td>\n",
       "      <td>39.463396</td>\n",
       "    </tr>\n",
       "  </tbody>\n",
       "</table>\n",
       "</div>"
      ],
      "text/plain": [
       "        minx       miny       maxx       maxy\n",
       "0  22.671186  39.229203  23.105349  39.463396"
      ]
     },
     "execution_count": 342,
     "metadata": {},
     "output_type": "execute_result"
    }
   ],
   "source": [
    "volos_municipality.bounds"
   ]
  },
  {
   "cell_type": "code",
   "execution_count": 17,
   "id": "8c7201af",
   "metadata": {
    "scrolled": true
   },
   "outputs": [
    {
     "data": {
      "text/html": [
       "<div>\n",
       "<style scoped>\n",
       "    .dataframe tbody tr th:only-of-type {\n",
       "        vertical-align: middle;\n",
       "    }\n",
       "\n",
       "    .dataframe tbody tr th {\n",
       "        vertical-align: top;\n",
       "    }\n",
       "\n",
       "    .dataframe thead th {\n",
       "        text-align: right;\n",
       "    }\n",
       "</style>\n",
       "<table border=\"1\" class=\"dataframe\">\n",
       "  <thead>\n",
       "    <tr style=\"text-align: right;\">\n",
       "      <th></th>\n",
       "      <th>minx</th>\n",
       "      <th>miny</th>\n",
       "      <th>maxx</th>\n",
       "      <th>maxy</th>\n",
       "    </tr>\n",
       "  </thead>\n",
       "  <tbody>\n",
       "    <tr>\n",
       "      <th>0</th>\n",
       "      <td>22.952391</td>\n",
       "      <td>39.358408</td>\n",
       "      <td>22.955158</td>\n",
       "      <td>39.360748</td>\n",
       "    </tr>\n",
       "  </tbody>\n",
       "</table>\n",
       "</div>"
      ],
      "text/plain": [
       "        minx       miny       maxx       maxy\n",
       "0  22.952391  39.358408  22.955158  39.360748"
      ]
     },
     "execution_count": 17,
     "metadata": {},
     "output_type": "execute_result"
    }
   ],
   "source": [
    "# read geojson specified by user\n",
    "user.bounds"
   ]
  },
  {
   "cell_type": "code",
   "execution_count": 19,
   "id": "bd3981b2",
   "metadata": {},
   "outputs": [
    {
     "data": {
      "text/html": [
       "<div>\n",
       "<style scoped>\n",
       "    .dataframe tbody tr th:only-of-type {\n",
       "        vertical-align: middle;\n",
       "    }\n",
       "\n",
       "    .dataframe tbody tr th {\n",
       "        vertical-align: top;\n",
       "    }\n",
       "\n",
       "    .dataframe thead th {\n",
       "        text-align: right;\n",
       "    }\n",
       "</style>\n",
       "<table border=\"1\" class=\"dataframe\">\n",
       "  <thead>\n",
       "    <tr style=\"text-align: right;\">\n",
       "      <th></th>\n",
       "      <th>minx</th>\n",
       "      <th>miny</th>\n",
       "      <th>maxx</th>\n",
       "      <th>maxy</th>\n",
       "    </tr>\n",
       "  </thead>\n",
       "  <tbody>\n",
       "    <tr>\n",
       "      <th>0</th>\n",
       "      <td>408865.378859</td>\n",
       "      <td>4.356907e+06</td>\n",
       "      <td>412487.472094</td>\n",
       "      <td>4.358841e+06</td>\n",
       "    </tr>\n",
       "  </tbody>\n",
       "</table>\n",
       "</div>"
      ],
      "text/plain": [
       "            minx          miny           maxx          maxy\n",
       "0  408865.378859  4.356907e+06  412487.472094  4.358841e+06"
      ]
     },
     "execution_count": 19,
     "metadata": {},
     "output_type": "execute_result"
    }
   ],
   "source": [
    "volos_1.bounds"
   ]
  },
  {
   "cell_type": "code",
   "execution_count": 14,
   "id": "aa1596ff",
   "metadata": {},
   "outputs": [],
   "source": [
    "#volos_1['geometry'].values[0].intersect(user['geometry'].values[0])"
   ]
  },
  {
   "cell_type": "raw",
   "id": "9a357941",
   "metadata": {},
   "source": [
    "#pt = Point((1, 1))\n",
    "line = LineString([(0,0), (2,2)])\n",
    "result = split(volos_municipality, pt)\n",
    "result.wkt\n",
    "'GEOMETRYCOLLECTION (LINESTRING (0 0, 1 1), LINESTRING (1 1, 2 2))'"
   ]
  },
  {
   "cell_type": "markdown",
   "id": "9e3a1e8e",
   "metadata": {},
   "source": [
    "https://snorfalorpagus.net/blog/2016/03/13/splitting-large-polygons-for-faster-intersections/"
   ]
  },
  {
   "cell_type": "markdown",
   "id": "f84a2792",
   "metadata": {},
   "source": [
    "The Coordinate Reference System (CRS) is important because the geometric shapes in a GeoSeries or GeoDataFrame object are simply a collection of coordinates in an arbitrary space. A CRS tells Python how those coordinates relate to places on the Earth.\n",
    "\n",
    "You can find the codes for most commonly used projections from www.spatialreference.org.\n",
    "\n",
    "The same CRS can often be referred to in many ways. For example, one of the most commonly used CRS is the WGS84 latitude-longitude projection."
   ]
  },
  {
   "cell_type": "code",
   "execution_count": 18,
   "id": "c7810698",
   "metadata": {},
   "outputs": [],
   "source": [
    "# You may need to project the coordinate system. From geodetic coordinates (e.g. 4826) to meters (e.g. 3857) and vice-versa. \n",
    "#The calculation of the buffer is usually done in the projected meters system because it takes a distance as an argument.\n",
    "#The shapely doc may be useful: http://shapely.readthedocs.io/en/latest/manual.html#object.buffer\n",
    "volos_municipality = volos_municipality.to_crs(epsg=2100) #32634\n",
    "user = user.to_crs(epsg=2100 )#EPSG:2100 with transformation: 1272\n",
    "volos_1 = volos_1.to_crs(epsg=2100 )\n",
    "#volos_municipality = volos_municipality.to_crs(epsg=4087)\n",
    "#volos_municipality.to_crs('+proj=cea').centroid.to_crs(volos_municipality.crs)"
   ]
  },
  {
   "cell_type": "code",
   "execution_count": 21,
   "id": "fc9bf502",
   "metadata": {
    "scrolled": true
   },
   "outputs": [
    {
     "name": "stdout",
     "output_type": "stream",
     "text": [
      "Dimension of the area is 37995 x 26130 m2\n",
      "Dimension of the area is 261 x 282 m2\n"
     ]
    },
    {
     "data": {
      "image/png": "[encoded data removed]",
      "text/plain": [
       "<Figure size 432x288 with 1 Axes>"
      ]
     },
     "metadata": {
      "needs_background": "light"
     },
     "output_type": "display_data"
    },
    {
     "data": {
      "image/png": "[encoded data removed]",
      "text/plain": [
       "<Figure size 432x288 with 1 Axes>"
      ]
     },
     "metadata": {
      "needs_background": "light"
     },
     "output_type": "display_data"
    },
    {
     "data": {
      "image/png": "[encoded data removed]",
      "text/plain": [
       "<Figure size 432x288 with 1 Axes>"
      ]
     },
     "metadata": {
      "needs_background": "light"
     },
     "output_type": "display_data"
    }
   ],
   "source": [
    "volos_municipality = volos_municipality.to_crs(epsg=2100) #32634\n",
    "user = user.to_crs(epsg=2100 )#EPSG:2100 with transformation: 1272\n",
    "volos_1 = volos_1.to_crs(epsg=2100 )\n",
    "\n",
    "# Add 500m buffer to secure sufficient data near border\n",
    "volos_municipality_buffered = volos_municipality.buffer(200)\n",
    "user_buffered = user.buffer(10)\n",
    "volos_1_buffered = volos_1.buffer(10)\n",
    "# Get the country's shape in polygon format\n",
    "volos_municipality_shape = volos_municipality_buffered.geometry.values[0]\n",
    "user_shape = user_buffered.geometry.values[0]\n",
    "volos_1_shape = volos_1_buffered.geometry.values[0]\n",
    "# Plot country\n",
    "volos_municipality_buffered.plot()\n",
    "plt.axis(\"off\")\n",
    "user_buffered.plot()\n",
    "plt.axis(\"off\")\n",
    "volos_1_buffered.plot()\n",
    "plt.axis(\"off\")\n",
    "## Print size\n",
    "volos_municipality_width = volos_municipality_shape.bounds[2] - volos_municipality_shape.bounds[0]\n",
    "volos_municipality_height = volos_municipality_shape.bounds[3] - volos_municipality_shape.bounds[1]\n",
    "print(f\"Dimension of the area is {volos_municipality_width:.0f} x {volos_municipality_height:.0f} m2\")\n",
    "## Print size\n",
    "user_width = user_shape.bounds[2] - user_shape.bounds[0]\n",
    "user_height = user_shape.bounds[3] - user_shape.bounds[1]\n",
    "print(f\"Dimension of the area is {user_width:.0f} x {user_height:.0f} m2\")"
   ]
  },
  {
   "cell_type": "code",
   "execution_count": 450,
   "id": "c2c2c6da",
   "metadata": {
    "scrolled": true
   },
   "outputs": [
    {
     "data": {
      "text/html": [
       "<div>\n",
       "<style scoped>\n",
       "    .dataframe tbody tr th:only-of-type {\n",
       "        vertical-align: middle;\n",
       "    }\n",
       "\n",
       "    .dataframe tbody tr th {\n",
       "        vertical-align: top;\n",
       "    }\n",
       "\n",
       "    .dataframe thead th {\n",
       "        text-align: right;\n",
       "    }\n",
       "</style>\n",
       "<table border=\"1\" class=\"dataframe\">\n",
       "  <thead>\n",
       "    <tr style=\"text-align: right;\">\n",
       "      <th></th>\n",
       "      <th>admin_level</th>\n",
       "      <th>name</th>\n",
       "      <th>name_en</th>\n",
       "      <th>population</th>\n",
       "      <th>hasc</th>\n",
       "      <th>geometry</th>\n",
       "    </tr>\n",
       "  </thead>\n",
       "  <tbody>\n",
       "    <tr>\n",
       "      <th>0</th>\n",
       "      <td>8</td>\n",
       "      <td>Δήμος Βόλου</td>\n",
       "      <td>Volos Municipality</td>\n",
       "      <td>135726.0</td>\n",
       "      <td>None</td>\n",
       "      <td>MULTIPOLYGON (((385196.684 4345571.997, 385211...</td>\n",
       "    </tr>\n",
       "  </tbody>\n",
       "</table>\n",
       "</div>"
      ],
      "text/plain": [
       "   admin_level         name             name_en  population  hasc  \\\n",
       "0            8  Δήμος Βόλου  Volos Municipality    135726.0  None   \n",
       "\n",
       "                                            geometry  \n",
       "0  MULTIPOLYGON (((385196.684 4345571.997, 385211...  "
      ]
     },
     "execution_count": 450,
     "metadata": {},
     "output_type": "execute_result"
    }
   ],
   "source": [
    "volos_municipality"
   ]
  },
  {
   "cell_type": "code",
   "execution_count": 87,
   "id": "c401eb82",
   "metadata": {},
   "outputs": [],
   "source": [
    "#argei arketa na trexei sto timelapse, oso perissotero anevainei h perioxh kai to square size"
   ]
  },
  {
   "cell_type": "code",
   "execution_count": 88,
   "id": "3408c781",
   "metadata": {},
   "outputs": [],
   "source": [
    "# https://spatial-dev.guru/2022/05/22/create-fishnet-grid-using-geopandas-and-shapely/\n",
    "# has other tutorials as well, may prove useful\n",
    "from shapely import geometry\n",
    " \n",
    "# Create a fishnet\n",
    "if __name__ == '__main__':\n",
    "    # Read the shapefile\n",
    "    gdf = gpd.read_file('./data/geojson/volos_1.geojson')\n",
    " \n",
    "    # Reproject to projected coordinate system\n",
    "    gdf = gdf.to_crs('EPSG:2100')\n",
    " \n",
    "    # Get the extent of the shapefile\n",
    "    total_bounds = gdf.total_bounds\n",
    " \n",
    "    # Get minX, minY, maxX, maxY\n",
    "    minX, minY, maxX, maxY = total_bounds\n",
    " \n",
    "    # Create a fishnet\n",
    "    x, y = (minX, minY)\n",
    "    geom_array = []\n",
    " \n",
    "    # Polygon Size\n",
    "    square_size = 100\n",
    "    while y <= maxY:\n",
    "        while x <= maxX:\n",
    "            geom = geometry.Polygon([(x,y), (x, y+square_size), (x+square_size, y+square_size), (x+square_size, y), (x, y)])\n",
    "            geom_array.append(geom)\n",
    "            x += square_size\n",
    "        x = minX\n",
    "        y += square_size\n",
    " \n",
    "    fishnet = gpd.GeoDataFrame(geom_array, columns=['geometry']).set_crs('EPSG:2100')\n",
    "    fishnet.to_file('./data/geojson/split/fishnet_grid.geojson')"
   ]
  },
  {
   "cell_type": "code",
   "execution_count": 89,
   "id": "d59673d8",
   "metadata": {
    "scrolled": true
   },
   "outputs": [
    {
     "data": {
      "text/html": [
       "<div>\n",
       "<style scoped>\n",
       "    .dataframe tbody tr th:only-of-type {\n",
       "        vertical-align: middle;\n",
       "    }\n",
       "\n",
       "    .dataframe tbody tr th {\n",
       "        vertical-align: top;\n",
       "    }\n",
       "\n",
       "    .dataframe thead th {\n",
       "        text-align: right;\n",
       "    }\n",
       "</style>\n",
       "<table border=\"1\" class=\"dataframe\">\n",
       "  <thead>\n",
       "    <tr style=\"text-align: right;\">\n",
       "      <th></th>\n",
       "      <th>geometry</th>\n",
       "    </tr>\n",
       "  </thead>\n",
       "  <tbody>\n",
       "    <tr>\n",
       "      <th>0</th>\n",
       "      <td>POLYGON ((408865.379 4356907.001, 408865.379 4...</td>\n",
       "    </tr>\n",
       "    <tr>\n",
       "      <th>1</th>\n",
       "      <td>POLYGON ((408965.379 4356907.001, 408965.379 4...</td>\n",
       "    </tr>\n",
       "    <tr>\n",
       "      <th>2</th>\n",
       "      <td>POLYGON ((409065.379 4356907.001, 409065.379 4...</td>\n",
       "    </tr>\n",
       "    <tr>\n",
       "      <th>3</th>\n",
       "      <td>POLYGON ((409165.379 4356907.001, 409165.379 4...</td>\n",
       "    </tr>\n",
       "    <tr>\n",
       "      <th>4</th>\n",
       "      <td>POLYGON ((409265.379 4356907.001, 409265.379 4...</td>\n",
       "    </tr>\n",
       "    <tr>\n",
       "      <th>...</th>\n",
       "      <td>...</td>\n",
       "    </tr>\n",
       "    <tr>\n",
       "      <th>735</th>\n",
       "      <td>POLYGON ((412065.379 4358807.001, 412065.379 4...</td>\n",
       "    </tr>\n",
       "    <tr>\n",
       "      <th>736</th>\n",
       "      <td>POLYGON ((412165.379 4358807.001, 412165.379 4...</td>\n",
       "    </tr>\n",
       "    <tr>\n",
       "      <th>737</th>\n",
       "      <td>POLYGON ((412265.379 4358807.001, 412265.379 4...</td>\n",
       "    </tr>\n",
       "    <tr>\n",
       "      <th>738</th>\n",
       "      <td>POLYGON ((412365.379 4358807.001, 412365.379 4...</td>\n",
       "    </tr>\n",
       "    <tr>\n",
       "      <th>739</th>\n",
       "      <td>POLYGON ((412465.379 4358807.001, 412465.379 4...</td>\n",
       "    </tr>\n",
       "  </tbody>\n",
       "</table>\n",
       "<p>740 rows × 1 columns</p>\n",
       "</div>"
      ],
      "text/plain": [
       "                                              geometry\n",
       "0    POLYGON ((408865.379 4356907.001, 408865.379 4...\n",
       "1    POLYGON ((408965.379 4356907.001, 408965.379 4...\n",
       "2    POLYGON ((409065.379 4356907.001, 409065.379 4...\n",
       "3    POLYGON ((409165.379 4356907.001, 409165.379 4...\n",
       "4    POLYGON ((409265.379 4356907.001, 409265.379 4...\n",
       "..                                                 ...\n",
       "735  POLYGON ((412065.379 4358807.001, 412065.379 4...\n",
       "736  POLYGON ((412165.379 4358807.001, 412165.379 4...\n",
       "737  POLYGON ((412265.379 4358807.001, 412265.379 4...\n",
       "738  POLYGON ((412365.379 4358807.001, 412365.379 4...\n",
       "739  POLYGON ((412465.379 4358807.001, 412465.379 4...\n",
       "\n",
       "[740 rows x 1 columns]"
      ]
     },
     "execution_count": 89,
     "metadata": {},
     "output_type": "execute_result"
    }
   ],
   "source": [
    "fishnet = gpd.read_file('./data/geojson/split/fishnet_grid.geojson')\n",
    "fishnet"
   ]
  },
  {
   "cell_type": "code",
   "execution_count": 90,
   "id": "0f18f806",
   "metadata": {},
   "outputs": [],
   "source": [
    "#https://eemont.readthedocs.io/en/latest/tutorials/013-Time-Series-By-Region-Pandas.html"
   ]
  },
  {
   "cell_type": "markdown",
   "id": "fd2c1ea3",
   "metadata": {},
   "source": [
    "### After we split the geojson to smaller equal size polygon-grids we calculate some indices for each of them"
   ]
  },
  {
   "cell_type": "code",
   "execution_count": null,
   "id": "4b62c7cc",
   "metadata": {},
   "outputs": [],
   "source": [
    "#function that takes desired timeframe through user input ini YY-MM-DD format\\n\",\n",
    "def set_dates():\n",
    "    startDate = input('Enter you desired starting date (YYYYMMDD): ')\n",
    "    endDate = input('Enter you desired ending date (YYYYMMDD): ')\n",
    "    return startDate,endDate\n",
    "\n",
    "startDate,endDate= set_dates()\n",
    "#('2015-01-01','2022-01-01')"
   ]
  },
  {
   "cell_type": "code",
   "execution_count": null,
   "id": "bfbe3700",
   "metadata": {},
   "outputs": [],
   "source": [
    "\n",
    "#magnisia\n",
    "#\"COPERNICUS/S2_SR\"\n",
    "#['EVI','NDVI','NDBI','IBI','UI','BLFEI']"
   ]
  },
  {
   "cell_type": "code",
   "execution_count": null,
   "id": "7434721c",
   "metadata": {},
   "outputs": [],
   "source": [
    "# Ask the user to define the satellite/image_collection they want to get data for\n",
    "# Ask him to also define the indices they want to check\n",
    "gee_name = input()\n",
    "#indices = input()\n"
   ]
  },
  {
   "cell_type": "code",
   "execution_count": 126,
   "id": "9447a9cb",
   "metadata": {
    "scrolled": true
   },
   "outputs": [
    {
     "data": {
      "image/svg+xml": [
       "<svg xmlns=\"http://www.w3.org/2000/svg\" xmlns:xlink=\"http://www.w3.org/1999/xlink\" width=\"108.0\" height=\"108.0\" viewBox=\"408961.3788587255 4356903.000719299 108.0 108.0\" preserveAspectRatio=\"xMinYMin meet\"><g transform=\"matrix(1,0,0,-1,0,8713914.001438597)\"><path fill-rule=\"evenodd\" fill=\"#66cc99\" stroke=\"#555555\" stroke-width=\"2.0\" opacity=\"0.6\" d=\"M 408965.3788587255,4356907.000719299 L 408965.3788587255,4357007.000719299 L 409065.3788587255,4357007.000719299 L 409065.3788587255,4356907.000719299 L 408965.3788587255,4356907.000719299 z\" /></g></svg>"
      ],
      "text/plain": [
       "<shapely.geometry.polygon.Polygon at 0x22e138beee0>"
      ]
     },
     "execution_count": 126,
     "metadata": {},
     "output_type": "execute_result"
    }
   ],
   "source": [
    "one"
   ]
  },
  {
   "cell_type": "code",
   "execution_count": 133,
   "id": "c4c82b77",
   "metadata": {
    "scrolled": true
   },
   "outputs": [
    {
     "data": {
      "text/html": [
       "<div>\n",
       "<style scoped>\n",
       "    .dataframe tbody tr th:only-of-type {\n",
       "        vertical-align: middle;\n",
       "    }\n",
       "\n",
       "    .dataframe tbody tr th {\n",
       "        vertical-align: top;\n",
       "    }\n",
       "\n",
       "    .dataframe thead th {\n",
       "        text-align: right;\n",
       "    }\n",
       "</style>\n",
       "<table border=\"1\" class=\"dataframe\">\n",
       "  <thead>\n",
       "    <tr style=\"text-align: right;\">\n",
       "      <th></th>\n",
       "      <th>geometry</th>\n",
       "    </tr>\n",
       "  </thead>\n",
       "  <tbody>\n",
       "    <tr>\n",
       "      <th>1</th>\n",
       "      <td>POLYGON ((408965.379 4356907.001, 408965.379 4...</td>\n",
       "    </tr>\n",
       "    <tr>\n",
       "      <th>2</th>\n",
       "      <td>POLYGON ((409065.379 4356907.001, 409065.379 4...</td>\n",
       "    </tr>\n",
       "  </tbody>\n",
       "</table>\n",
       "</div>"
      ],
      "text/plain": [
       "                                            geometry\n",
       "1  POLYGON ((408965.379 4356907.001, 408965.379 4...\n",
       "2  POLYGON ((409065.379 4356907.001, 409065.379 4..."
      ]
     },
     "execution_count": 133,
     "metadata": {},
     "output_type": "execute_result"
    }
   ],
   "source": [
    "fishnet.iloc[1:3]"
   ]
  },
  {
   "cell_type": "code",
   "execution_count": 141,
   "id": "2b389907",
   "metadata": {
    "scrolled": true
   },
   "outputs": [
    {
     "ename": "TypeError",
     "evalue": "The ee_object must be one of ee.Geometry, ee.Feature, ee.FeatureCollection.",
     "output_type": "error",
     "traceback": [
      "\u001b[1;31m---------------------------------------------------------------------------\u001b[0m",
      "\u001b[1;31mTypeError\u001b[0m                                 Traceback (most recent call last)",
      "\u001b[1;32m~\\AppData\\Local\\Temp/ipykernel_18064/2461483098.py\u001b[0m in \u001b[0;36m<module>\u001b[1;34m\u001b[0m\n\u001b[1;32m----> 1\u001b[1;33m \u001b[0mgeemap\u001b[0m\u001b[1;33m.\u001b[0m\u001b[0mgeometry_type\u001b[0m\u001b[1;33m(\u001b[0m\u001b[0mfishnet\u001b[0m\u001b[1;33m.\u001b[0m\u001b[0mloc\u001b[0m\u001b[1;33m[\u001b[0m\u001b[1;36m1\u001b[0m\u001b[1;33m]\u001b[0m\u001b[1;33m)\u001b[0m\u001b[1;33m\u001b[0m\u001b[1;33m\u001b[0m\u001b[0m\n\u001b[0m",
      "\u001b[1;32m~\\anaconda3\\envs\\ml\\lib\\site-packages\\geemap\\common.py\u001b[0m in \u001b[0;36mgeometry_type\u001b[1;34m(ee_object)\u001b[0m\n\u001b[0;32m   7211\u001b[0m         \u001b[1;32mreturn\u001b[0m \u001b[0mee\u001b[0m\u001b[1;33m.\u001b[0m\u001b[0mFeature\u001b[0m\u001b[1;33m(\u001b[0m\u001b[0mee_object\u001b[0m\u001b[1;33m.\u001b[0m\u001b[0mfirst\u001b[0m\u001b[1;33m(\u001b[0m\u001b[1;33m)\u001b[0m\u001b[1;33m)\u001b[0m\u001b[1;33m.\u001b[0m\u001b[0mgeometry\u001b[0m\u001b[1;33m(\u001b[0m\u001b[1;33m)\u001b[0m\u001b[1;33m.\u001b[0m\u001b[0mtype\u001b[0m\u001b[1;33m(\u001b[0m\u001b[1;33m)\u001b[0m\u001b[1;33m.\u001b[0m\u001b[0mgetInfo\u001b[0m\u001b[1;33m(\u001b[0m\u001b[1;33m)\u001b[0m\u001b[1;33m\u001b[0m\u001b[1;33m\u001b[0m\u001b[0m\n\u001b[0;32m   7212\u001b[0m     \u001b[1;32melse\u001b[0m\u001b[1;33m:\u001b[0m\u001b[1;33m\u001b[0m\u001b[1;33m\u001b[0m\u001b[0m\n\u001b[1;32m-> 7213\u001b[1;33m         raise TypeError(\n\u001b[0m\u001b[0;32m   7214\u001b[0m             \u001b[1;34m\"The ee_object must be one of ee.Geometry, ee.Feature, ee.FeatureCollection.\"\u001b[0m\u001b[1;33m\u001b[0m\u001b[1;33m\u001b[0m\u001b[0m\n\u001b[0;32m   7215\u001b[0m         )\n",
      "\u001b[1;31mTypeError\u001b[0m: The ee_object must be one of ee.Geometry, ee.Feature, ee.FeatureCollection."
     ]
    }
   ],
   "source": [
    "geemap.geometry_type(fishnet.loc[1])"
   ]
  },
  {
   "cell_type": "code",
   "execution_count": 144,
   "id": "6c3d952c",
   "metadata": {},
   "outputs": [
    {
     "data": {
      "text/plain": [
       "'Polygon'"
      ]
     },
     "execution_count": 144,
     "metadata": {},
     "output_type": "execute_result"
    }
   ],
   "source": [
    "#fishnet_complete_fc = geemap.geopandas_to_ee(fishnet,geodesic=False)\n",
    "geemap.geometry_type(fishnet_complete_fc)"
   ]
  },
  {
   "cell_type": "code",
   "execution_count": 140,
   "id": "aab120ad",
   "metadata": {},
   "outputs": [
    {
     "name": "stdout",
     "output_type": "stream",
     "text": [
      "Could not convert the geojson to ee.Geometry()\n"
     ]
    },
    {
     "ename": "Exception",
     "evalue": "'Polygon' object is not subscriptable",
     "output_type": "error",
     "traceback": [
      "\u001b[1;31m---------------------------------------------------------------------------\u001b[0m",
      "\u001b[1;31mTypeError\u001b[0m                                 Traceback (most recent call last)",
      "\u001b[1;32m~\\anaconda3\\envs\\ml\\lib\\site-packages\\geemap\\common.py\u001b[0m in \u001b[0;36mgeojson_to_ee\u001b[1;34m(geo_json, geodesic, encoding)\u001b[0m\n\u001b[0;32m   1197\u001b[0m         \u001b[1;31m# geo_json[\"geodesic\"] = geodesic\u001b[0m\u001b[1;33m\u001b[0m\u001b[1;33m\u001b[0m\u001b[1;33m\u001b[0m\u001b[0m\n\u001b[1;32m-> 1198\u001b[1;33m         \u001b[1;32mif\u001b[0m \u001b[0mgeo_json\u001b[0m\u001b[1;33m[\u001b[0m\u001b[1;34m\"type\"\u001b[0m\u001b[1;33m]\u001b[0m \u001b[1;33m==\u001b[0m \u001b[1;34m\"FeatureCollection\"\u001b[0m\u001b[1;33m:\u001b[0m\u001b[1;33m\u001b[0m\u001b[1;33m\u001b[0m\u001b[0m\n\u001b[0m\u001b[0;32m   1199\u001b[0m             \u001b[1;32mfor\u001b[0m \u001b[0mfeature\u001b[0m \u001b[1;32min\u001b[0m \u001b[0mgeo_json\u001b[0m\u001b[1;33m[\u001b[0m\u001b[1;34m\"features\"\u001b[0m\u001b[1;33m]\u001b[0m\u001b[1;33m:\u001b[0m\u001b[1;33m\u001b[0m\u001b[1;33m\u001b[0m\u001b[0m\n",
      "\u001b[1;31mTypeError\u001b[0m: 'Polygon' object is not subscriptable",
      "\nDuring handling of the above exception, another exception occurred:\n",
      "\u001b[1;31mException\u001b[0m                                 Traceback (most recent call last)",
      "\u001b[1;32m~\\AppData\\Local\\Temp/ipykernel_18064/3995870015.py\u001b[0m in \u001b[0;36m<module>\u001b[1;34m\u001b[0m\n\u001b[0;32m      1\u001b[0m \u001b[1;32mfor\u001b[0m \u001b[0mi\u001b[0m \u001b[1;32min\u001b[0m \u001b[0mrange\u001b[0m\u001b[1;33m(\u001b[0m\u001b[0mlen\u001b[0m\u001b[1;33m(\u001b[0m\u001b[0mfishnet\u001b[0m\u001b[1;33m)\u001b[0m\u001b[1;33m)\u001b[0m\u001b[1;33m:\u001b[0m\u001b[1;33m\u001b[0m\u001b[1;33m\u001b[0m\u001b[0m\n\u001b[1;32m----> 2\u001b[1;33m     \u001b[0mgeemap\u001b[0m\u001b[1;33m.\u001b[0m\u001b[0mgeojson_to_ee\u001b[0m\u001b[1;33m(\u001b[0m\u001b[0mfishnet\u001b[0m\u001b[1;33m[\u001b[0m\u001b[1;34m'geometry'\u001b[0m\u001b[1;33m]\u001b[0m\u001b[1;33m.\u001b[0m\u001b[0mloc\u001b[0m\u001b[1;33m[\u001b[0m\u001b[0mi\u001b[0m\u001b[1;33m]\u001b[0m\u001b[1;33m)\u001b[0m\u001b[1;33m\u001b[0m\u001b[1;33m\u001b[0m\u001b[0m\n\u001b[0m",
      "\u001b[1;32m~\\anaconda3\\envs\\ml\\lib\\site-packages\\geemap\\common.py\u001b[0m in \u001b[0;36mgeojson_to_ee\u001b[1;34m(geo_json, geodesic, encoding)\u001b[0m\n\u001b[0;32m   1224\u001b[0m     \u001b[1;32mexcept\u001b[0m \u001b[0mException\u001b[0m \u001b[1;32mas\u001b[0m \u001b[0me\u001b[0m\u001b[1;33m:\u001b[0m\u001b[1;33m\u001b[0m\u001b[1;33m\u001b[0m\u001b[0m\n\u001b[0;32m   1225\u001b[0m         \u001b[0mprint\u001b[0m\u001b[1;33m(\u001b[0m\u001b[1;34m\"Could not convert the geojson to ee.Geometry()\"\u001b[0m\u001b[1;33m)\u001b[0m\u001b[1;33m\u001b[0m\u001b[1;33m\u001b[0m\u001b[0m\n\u001b[1;32m-> 1226\u001b[1;33m         \u001b[1;32mraise\u001b[0m \u001b[0mException\u001b[0m\u001b[1;33m(\u001b[0m\u001b[0me\u001b[0m\u001b[1;33m)\u001b[0m\u001b[1;33m\u001b[0m\u001b[1;33m\u001b[0m\u001b[0m\n\u001b[0m\u001b[0;32m   1227\u001b[0m \u001b[1;33m\u001b[0m\u001b[0m\n\u001b[0;32m   1228\u001b[0m \u001b[1;33m\u001b[0m\u001b[0m\n",
      "\u001b[1;31mException\u001b[0m: 'Polygon' object is not subscriptable"
     ]
    }
   ],
   "source": [
    "for i in range(len(fishnet)):\n",
    "    geemap.geojson_to_ee(fishnet['geometry'].loc[i])"
   ]
  },
  {
   "cell_type": "code",
   "execution_count": 120,
   "id": "6875bd3c",
   "metadata": {},
   "outputs": [
    {
     "ename": "EEException",
     "evalue": "Invalid GeoJSON geometry.",
     "output_type": "error",
     "traceback": [
      "\u001b[1;31m---------------------------------------------------------------------------\u001b[0m",
      "\u001b[1;31mEEException\u001b[0m                               Traceback (most recent call last)",
      "\u001b[1;32m~\\AppData\\Local\\Temp/ipykernel_18064/1909346937.py\u001b[0m in \u001b[0;36m<module>\u001b[1;34m\u001b[0m\n\u001b[0;32m      1\u001b[0m \u001b[1;32mfor\u001b[0m \u001b[0mi\u001b[0m \u001b[1;32min\u001b[0m \u001b[0mfishnet\u001b[0m\u001b[1;33m[\u001b[0m\u001b[1;34m'geometry'\u001b[0m\u001b[1;33m]\u001b[0m\u001b[1;33m.\u001b[0m\u001b[0miloc\u001b[0m\u001b[1;33m[\u001b[0m\u001b[1;33m:\u001b[0m\u001b[1;36m2\u001b[0m\u001b[1;33m]\u001b[0m\u001b[1;33m.\u001b[0m\u001b[0mexplode\u001b[0m\u001b[1;33m(\u001b[0m\u001b[1;33m)\u001b[0m\u001b[1;33m:\u001b[0m\u001b[1;33m\u001b[0m\u001b[1;33m\u001b[0m\u001b[0m\n\u001b[0;32m      2\u001b[0m     one_fc = ee.FeatureCollection([\n\u001b[1;32m----> 3\u001b[1;33m        \u001b[0mee\u001b[0m\u001b[1;33m.\u001b[0m\u001b[0mFeature\u001b[0m\u001b[1;33m(\u001b[0m\u001b[0mi\u001b[0m\u001b[1;33m,\u001b[0m\u001b[1;33m{\u001b[0m\u001b[1;34m'pivot'\u001b[0m\u001b[1;33m:\u001b[0m\u001b[1;36m1\u001b[0m\u001b[1;33m}\u001b[0m\u001b[1;33m)\u001b[0m\u001b[1;33m\u001b[0m\u001b[1;33m\u001b[0m\u001b[0m\n\u001b[0m\u001b[0;32m      4\u001b[0m     ])\n\u001b[0;32m      5\u001b[0m \u001b[1;33m\u001b[0m\u001b[0m\n",
      "\u001b[1;32m~\\anaconda3\\envs\\ml\\lib\\site-packages\\ee\\computedobject.py\u001b[0m in \u001b[0;36m__call__\u001b[1;34m(cls, *args, **kwargs)\u001b[0m\n\u001b[0;32m     30\u001b[0m       \u001b[1;32mreturn\u001b[0m \u001b[0margs\u001b[0m\u001b[1;33m[\u001b[0m\u001b[1;36m0\u001b[0m\u001b[1;33m]\u001b[0m\u001b[1;33m\u001b[0m\u001b[1;33m\u001b[0m\u001b[0m\n\u001b[0;32m     31\u001b[0m     \u001b[1;32melse\u001b[0m\u001b[1;33m:\u001b[0m\u001b[1;33m\u001b[0m\u001b[1;33m\u001b[0m\u001b[0m\n\u001b[1;32m---> 32\u001b[1;33m       \u001b[1;32mreturn\u001b[0m \u001b[0mtype\u001b[0m\u001b[1;33m.\u001b[0m\u001b[0m__call__\u001b[0m\u001b[1;33m(\u001b[0m\u001b[0mcls\u001b[0m\u001b[1;33m,\u001b[0m \u001b[1;33m*\u001b[0m\u001b[0margs\u001b[0m\u001b[1;33m,\u001b[0m \u001b[1;33m**\u001b[0m\u001b[0mkwargs\u001b[0m\u001b[1;33m)\u001b[0m\u001b[1;33m\u001b[0m\u001b[1;33m\u001b[0m\u001b[0m\n\u001b[0m\u001b[0;32m     33\u001b[0m \u001b[1;33m\u001b[0m\u001b[0m\n\u001b[0;32m     34\u001b[0m \u001b[1;33m\u001b[0m\u001b[0m\n",
      "\u001b[1;32m~\\anaconda3\\envs\\ml\\lib\\site-packages\\ee\\feature.py\u001b[0m in \u001b[0;36m__init__\u001b[1;34m(self, geom, opt_properties)\u001b[0m\n\u001b[0;32m     75\u001b[0m       \u001b[1;31m# turning out to be GeoJSON.\u001b[0m\u001b[1;33m\u001b[0m\u001b[1;33m\u001b[0m\u001b[1;33m\u001b[0m\u001b[0m\n\u001b[0;32m     76\u001b[0m       super(Feature, self).__init__(feature_constructor, {\n\u001b[1;32m---> 77\u001b[1;33m           \u001b[1;34m'geometry'\u001b[0m\u001b[1;33m:\u001b[0m \u001b[0mgeometry\u001b[0m\u001b[1;33m.\u001b[0m\u001b[0mGeometry\u001b[0m\u001b[1;33m(\u001b[0m\u001b[0mgeom\u001b[0m\u001b[1;33m)\u001b[0m\u001b[1;33m,\u001b[0m\u001b[1;33m\u001b[0m\u001b[1;33m\u001b[0m\u001b[0m\n\u001b[0m\u001b[0;32m     78\u001b[0m           \u001b[1;34m'metadata'\u001b[0m\u001b[1;33m:\u001b[0m \u001b[0mopt_properties\u001b[0m \u001b[1;32mor\u001b[0m \u001b[1;32mNone\u001b[0m\u001b[1;33m\u001b[0m\u001b[1;33m\u001b[0m\u001b[0m\n\u001b[0;32m     79\u001b[0m       })\n",
      "\u001b[1;32m~\\anaconda3\\envs\\ml\\lib\\site-packages\\ee\\computedobject.py\u001b[0m in \u001b[0;36m__call__\u001b[1;34m(cls, *args, **kwargs)\u001b[0m\n\u001b[0;32m     30\u001b[0m       \u001b[1;32mreturn\u001b[0m \u001b[0margs\u001b[0m\u001b[1;33m[\u001b[0m\u001b[1;36m0\u001b[0m\u001b[1;33m]\u001b[0m\u001b[1;33m\u001b[0m\u001b[1;33m\u001b[0m\u001b[0m\n\u001b[0;32m     31\u001b[0m     \u001b[1;32melse\u001b[0m\u001b[1;33m:\u001b[0m\u001b[1;33m\u001b[0m\u001b[1;33m\u001b[0m\u001b[0m\n\u001b[1;32m---> 32\u001b[1;33m       \u001b[1;32mreturn\u001b[0m \u001b[0mtype\u001b[0m\u001b[1;33m.\u001b[0m\u001b[0m__call__\u001b[0m\u001b[1;33m(\u001b[0m\u001b[0mcls\u001b[0m\u001b[1;33m,\u001b[0m \u001b[1;33m*\u001b[0m\u001b[0margs\u001b[0m\u001b[1;33m,\u001b[0m \u001b[1;33m**\u001b[0m\u001b[0mkwargs\u001b[0m\u001b[1;33m)\u001b[0m\u001b[1;33m\u001b[0m\u001b[1;33m\u001b[0m\u001b[0m\n\u001b[0m\u001b[0;32m     33\u001b[0m \u001b[1;33m\u001b[0m\u001b[0m\n\u001b[0;32m     34\u001b[0m \u001b[1;33m\u001b[0m\u001b[0m\n",
      "\u001b[1;32m~\\anaconda3\\envs\\ml\\lib\\site-packages\\ee\\geometry.py\u001b[0m in \u001b[0;36m__init__\u001b[1;34m(self, geo_json, opt_proj, opt_geodesic, opt_evenOdd)\u001b[0m\n\u001b[0;32m     82\u001b[0m \u001b[1;33m\u001b[0m\u001b[0m\n\u001b[0;32m     83\u001b[0m     \u001b[1;32mif\u001b[0m \u001b[1;32mnot\u001b[0m \u001b[0mGeometry\u001b[0m\u001b[1;33m.\u001b[0m\u001b[0m_isValidGeometry\u001b[0m\u001b[1;33m(\u001b[0m\u001b[0mgeo_json\u001b[0m\u001b[1;33m)\u001b[0m\u001b[1;33m:\u001b[0m\u001b[1;33m\u001b[0m\u001b[1;33m\u001b[0m\u001b[0m\n\u001b[1;32m---> 84\u001b[1;33m       \u001b[1;32mraise\u001b[0m \u001b[0mee_exception\u001b[0m\u001b[1;33m.\u001b[0m\u001b[0mEEException\u001b[0m\u001b[1;33m(\u001b[0m\u001b[1;34m'Invalid GeoJSON geometry.'\u001b[0m\u001b[1;33m)\u001b[0m\u001b[1;33m\u001b[0m\u001b[1;33m\u001b[0m\u001b[0m\n\u001b[0m\u001b[0;32m     85\u001b[0m \u001b[1;33m\u001b[0m\u001b[0m\n\u001b[0;32m     86\u001b[0m     \u001b[0msuper\u001b[0m\u001b[1;33m(\u001b[0m\u001b[0mGeometry\u001b[0m\u001b[1;33m,\u001b[0m \u001b[0mself\u001b[0m\u001b[1;33m)\u001b[0m\u001b[1;33m.\u001b[0m\u001b[0m__init__\u001b[0m\u001b[1;33m(\u001b[0m\u001b[1;32mNone\u001b[0m\u001b[1;33m,\u001b[0m \u001b[1;32mNone\u001b[0m\u001b[1;33m)\u001b[0m\u001b[1;33m\u001b[0m\u001b[1;33m\u001b[0m\u001b[0m\n",
      "\u001b[1;31mEEException\u001b[0m: Invalid GeoJSON geometry."
     ]
    }
   ],
   "source": [
    "for i in fishnet['geometry'].iloc[:2].explode():\n",
    "    one_fc = ee.FeatureCollection([\n",
    "       ee.Feature(i,{'pivot':1})\n",
    "    ])\n",
    "    \n",
    "one_fc"
   ]
  },
  {
   "cell_type": "code",
   "execution_count": null,
   "id": "65111e98",
   "metadata": {},
   "outputs": [],
   "source": [
    "a=ee.Feature()"
   ]
  },
  {
   "cell_type": "code",
   "execution_count": null,
   "id": "d8590aaa",
   "metadata": {},
   "outputs": [],
   "source": [
    "def pivots(geometry):\n",
    "    for i in fishnet['geometry']:\n",
    "    pivots = ee.FeatureCollection([\n",
    "       ee.Feature(i,) i,\n",
    "    ])"
   ]
  },
  {
   "cell_type": "code",
   "execution_count": null,
   "id": "a7b4e584",
   "metadata": {},
   "outputs": [],
   "source": [
    "import eemont #improved iteration of ee api\n",
    "\n",
    "def select_satellite(gee_name,bounds,indices):\n",
    "    #data from sentinel-2 surface reflectance\n",
    "\n",
    "    satellite = (ee.ImageCollection(gee_name)\n",
    "        .filterBounds(bounds)\n",
    "        .filterDate(startDate,endDate)\n",
    "        .maskClouds()\n",
    "        .scaleAndOffset()\n",
    "        #.spectralIndices(['EVI','NDVI','NDBI','IBI','UI','BLFEI']))\n",
    "        .spectralIndices(indices))\n",
    "    print('satellite data loaded')\n",
    "    return satellite\n",
    "#select some bands\n",
    "#N = s2.select('B8')\n",
    "#R = s2.select('B4')\n",
    "#B = s2.select('B2')\n",
    "#G = s2.select('B3')\n",
    "\n",
    "s2 = select_satellite(gee_name,magnisia,indices)"
   ]
  },
  {
   "cell_type": "code",
   "execution_count": null,
   "id": "f40ff7b6",
   "metadata": {},
   "outputs": [],
   "source": [
    "#generate time series over aoi, get spectral indices(awsome index)\n",
    "def generate_time_series(satellite):\n",
    "    time_series  = satellite.getTimeSeriesByRegion(ee.Reducer.mean(),\n",
    "                              geometry = volos_fc,\n",
    "                              bands = ['NDVI','NDBI','IBI','UI'],\n",
    "                              scale = 10,\n",
    "                              bestEffort = True,\n",
    "                              maxPixels = 1e13,\n",
    "                              dateFormat = 'YYYYMMdd',\n",
    "                              tileScale = 2)\n",
    "    print('start')\n",
    "    start_time = time.monotonic()\n",
    "\n",
    "    #use geemap to generate a pandas dataframe from the time series(contains the ts for the selected indices)\n",
    "    satellite_df= geemap.ee_to_pandas(time_series)\n",
    "    end_time = time.monotonic()\n",
    "    print(timedelta(seconds=end_time - start_time))\n",
    "    \n",
    "    satellite_df[satellite_df == -9999] = np.nan # we do that to generate nan values when we don't have data\n",
    "    satellite_df['date'] = pd.to_datetime(satellite_df['date'],infer_datetime_format = True)\n",
    "    \n",
    "    return satellite_df\n"
   ]
  },
  {
   "cell_type": "raw",
   "id": "e88b98e8",
   "metadata": {},
   "source": [
    "# create the GeoDataFrame\n",
    "ak_exp_gdf = gpd.GeoDataFrame(volos_municipality['geometry'].values)\n",
    "# set the geometry column\n",
    "ak_exp_gdf.columns = ['geometry']\n",
    "ak_exp_gdf"
   ]
  },
  {
   "cell_type": "code",
   "execution_count": 51,
   "id": "d0089259",
   "metadata": {},
   "outputs": [
    {
     "ename": "EEException",
     "evalue": "List.sequence: Sequence size must be >= 0.  Found -8.",
     "output_type": "error",
     "traceback": [
      "\u001b[1;31m---------------------------------------------------------------------------\u001b[0m",
      "\u001b[1;31mHttpError\u001b[0m                                 Traceback (most recent call last)",
      "\u001b[1;32m~\\anaconda3\\envs\\ml\\lib\\site-packages\\ee\\data.py\u001b[0m in \u001b[0;36m_execute_cloud_call\u001b[1;34m(call, num_retries)\u001b[0m\n\u001b[0;32m    329\u001b[0m   \u001b[1;32mtry\u001b[0m\u001b[1;33m:\u001b[0m\u001b[1;33m\u001b[0m\u001b[1;33m\u001b[0m\u001b[0m\n\u001b[1;32m--> 330\u001b[1;33m     \u001b[1;32mreturn\u001b[0m \u001b[0mcall\u001b[0m\u001b[1;33m.\u001b[0m\u001b[0mexecute\u001b[0m\u001b[1;33m(\u001b[0m\u001b[0mnum_retries\u001b[0m\u001b[1;33m=\u001b[0m\u001b[0mnum_retries\u001b[0m\u001b[1;33m)\u001b[0m\u001b[1;33m\u001b[0m\u001b[1;33m\u001b[0m\u001b[0m\n\u001b[0m\u001b[0;32m    331\u001b[0m   \u001b[1;32mexcept\u001b[0m \u001b[0mgoogleapiclient\u001b[0m\u001b[1;33m.\u001b[0m\u001b[0merrors\u001b[0m\u001b[1;33m.\u001b[0m\u001b[0mHttpError\u001b[0m \u001b[1;32mas\u001b[0m \u001b[0me\u001b[0m\u001b[1;33m:\u001b[0m\u001b[1;33m\u001b[0m\u001b[1;33m\u001b[0m\u001b[0m\n",
      "\u001b[1;32m~\\anaconda3\\envs\\ml\\lib\\site-packages\\googleapiclient\\_helpers.py\u001b[0m in \u001b[0;36mpositional_wrapper\u001b[1;34m(*args, **kwargs)\u001b[0m\n\u001b[0;32m    133\u001b[0m                     \u001b[0mlogger\u001b[0m\u001b[1;33m.\u001b[0m\u001b[0mwarning\u001b[0m\u001b[1;33m(\u001b[0m\u001b[0mmessage\u001b[0m\u001b[1;33m)\u001b[0m\u001b[1;33m\u001b[0m\u001b[1;33m\u001b[0m\u001b[0m\n\u001b[1;32m--> 134\u001b[1;33m             \u001b[1;32mreturn\u001b[0m \u001b[0mwrapped\u001b[0m\u001b[1;33m(\u001b[0m\u001b[1;33m*\u001b[0m\u001b[0margs\u001b[0m\u001b[1;33m,\u001b[0m \u001b[1;33m**\u001b[0m\u001b[0mkwargs\u001b[0m\u001b[1;33m)\u001b[0m\u001b[1;33m\u001b[0m\u001b[1;33m\u001b[0m\u001b[0m\n\u001b[0m\u001b[0;32m    135\u001b[0m \u001b[1;33m\u001b[0m\u001b[0m\n",
      "\u001b[1;32m~\\anaconda3\\envs\\ml\\lib\\site-packages\\googleapiclient\\http.py\u001b[0m in \u001b[0;36mexecute\u001b[1;34m(self, http, num_retries)\u001b[0m\n\u001b[0;32m    914\u001b[0m         \u001b[1;32mif\u001b[0m \u001b[0mresp\u001b[0m\u001b[1;33m.\u001b[0m\u001b[0mstatus\u001b[0m \u001b[1;33m>=\u001b[0m \u001b[1;36m300\u001b[0m\u001b[1;33m:\u001b[0m\u001b[1;33m\u001b[0m\u001b[1;33m\u001b[0m\u001b[0m\n\u001b[1;32m--> 915\u001b[1;33m             \u001b[1;32mraise\u001b[0m \u001b[0mHttpError\u001b[0m\u001b[1;33m(\u001b[0m\u001b[0mresp\u001b[0m\u001b[1;33m,\u001b[0m \u001b[0mcontent\u001b[0m\u001b[1;33m,\u001b[0m \u001b[0muri\u001b[0m\u001b[1;33m=\u001b[0m\u001b[0mself\u001b[0m\u001b[1;33m.\u001b[0m\u001b[0muri\u001b[0m\u001b[1;33m)\u001b[0m\u001b[1;33m\u001b[0m\u001b[1;33m\u001b[0m\u001b[0m\n\u001b[0m\u001b[0;32m    916\u001b[0m         \u001b[1;32mreturn\u001b[0m \u001b[0mself\u001b[0m\u001b[1;33m.\u001b[0m\u001b[0mpostproc\u001b[0m\u001b[1;33m(\u001b[0m\u001b[0mresp\u001b[0m\u001b[1;33m,\u001b[0m \u001b[0mcontent\u001b[0m\u001b[1;33m)\u001b[0m\u001b[1;33m\u001b[0m\u001b[1;33m\u001b[0m\u001b[0m\n",
      "\u001b[1;31mHttpError\u001b[0m: <HttpError 400 when requesting https://earthengine.googleapis.com/v1alpha/projects/earthengine-legacy/maps?fields=name&alt=json returned \"List.sequence: Sequence size must be >= 0.  Found -8.\". Details: \"List.sequence: Sequence size must be >= 0.  Found -8.\">",
      "\nDuring handling of the above exception, another exception occurred:\n",
      "\u001b[1;31mEEException\u001b[0m                               Traceback (most recent call last)",
      "\u001b[1;32m~\\AppData\\Local\\Temp/ipykernel_18064/1768254768.py\u001b[0m in \u001b[0;36m<module>\u001b[1;34m\u001b[0m\n\u001b[0;32m     13\u001b[0m \u001b[1;31m#df = geemap.ee_to_df(grid)\u001b[0m\u001b[1;33m\u001b[0m\u001b[1;33m\u001b[0m\u001b[1;33m\u001b[0m\u001b[0m\n\u001b[0;32m     14\u001b[0m \u001b[1;33m\u001b[0m\u001b[0m\n\u001b[1;32m---> 15\u001b[1;33m \u001b[0mMap\u001b[0m\u001b[1;33m.\u001b[0m\u001b[0maddLayer\u001b[0m\u001b[1;33m(\u001b[0m\u001b[0mgrid\u001b[0m\u001b[1;33m,\u001b[0m \u001b[1;33m{\u001b[0m\u001b[1;33m}\u001b[0m\u001b[1;33m,\u001b[0m \u001b[1;34m'Coordinate Grid'\u001b[0m\u001b[1;33m)\u001b[0m\u001b[1;33m\u001b[0m\u001b[1;33m\u001b[0m\u001b[0m\n\u001b[0m\u001b[0;32m     16\u001b[0m \u001b[0mMap\u001b[0m\u001b[1;33m\u001b[0m\u001b[1;33m\u001b[0m\u001b[0m\n",
      "\u001b[1;32m~\\anaconda3\\envs\\ml\\lib\\site-packages\\geemap\\geemap.py\u001b[0m in \u001b[0;36madd_ee_layer\u001b[1;34m(self, ee_object, vis_params, name, shown, opacity)\u001b[0m\n\u001b[0;32m   1416\u001b[0m                 )\n\u001b[0;32m   1417\u001b[0m \u001b[1;33m\u001b[0m\u001b[0m\n\u001b[1;32m-> 1418\u001b[1;33m         \u001b[0mmap_id_dict\u001b[0m \u001b[1;33m=\u001b[0m \u001b[0mee\u001b[0m\u001b[1;33m.\u001b[0m\u001b[0mImage\u001b[0m\u001b[1;33m(\u001b[0m\u001b[0mimage\u001b[0m\u001b[1;33m)\u001b[0m\u001b[1;33m.\u001b[0m\u001b[0mgetMapId\u001b[0m\u001b[1;33m(\u001b[0m\u001b[0mvis_params\u001b[0m\u001b[1;33m)\u001b[0m\u001b[1;33m\u001b[0m\u001b[1;33m\u001b[0m\u001b[0m\n\u001b[0m\u001b[0;32m   1419\u001b[0m         tile_layer = ipyleaflet.TileLayer(\n\u001b[0;32m   1420\u001b[0m             \u001b[0murl\u001b[0m\u001b[1;33m=\u001b[0m\u001b[0mmap_id_dict\u001b[0m\u001b[1;33m[\u001b[0m\u001b[1;34m\"tile_fetcher\"\u001b[0m\u001b[1;33m]\u001b[0m\u001b[1;33m.\u001b[0m\u001b[0murl_format\u001b[0m\u001b[1;33m,\u001b[0m\u001b[1;33m\u001b[0m\u001b[1;33m\u001b[0m\u001b[0m\n",
      "\u001b[1;32m~\\anaconda3\\envs\\ml\\lib\\site-packages\\ee\\image.py\u001b[0m in \u001b[0;36mgetMapId\u001b[1;34m(self, vis_params)\u001b[0m\n\u001b[0;32m    128\u001b[0m     \u001b[0mvis_image\u001b[0m\u001b[1;33m,\u001b[0m \u001b[0mrequest\u001b[0m \u001b[1;33m=\u001b[0m \u001b[0mself\u001b[0m\u001b[1;33m.\u001b[0m\u001b[0m_apply_visualization\u001b[0m\u001b[1;33m(\u001b[0m\u001b[0mvis_params\u001b[0m\u001b[1;33m)\u001b[0m\u001b[1;33m\u001b[0m\u001b[1;33m\u001b[0m\u001b[0m\n\u001b[0;32m    129\u001b[0m     \u001b[0mrequest\u001b[0m\u001b[1;33m[\u001b[0m\u001b[1;34m'image'\u001b[0m\u001b[1;33m]\u001b[0m \u001b[1;33m=\u001b[0m \u001b[0mvis_image\u001b[0m\u001b[1;33m\u001b[0m\u001b[1;33m\u001b[0m\u001b[0m\n\u001b[1;32m--> 130\u001b[1;33m     \u001b[0mresponse\u001b[0m \u001b[1;33m=\u001b[0m \u001b[0mdata\u001b[0m\u001b[1;33m.\u001b[0m\u001b[0mgetMapId\u001b[0m\u001b[1;33m(\u001b[0m\u001b[0mrequest\u001b[0m\u001b[1;33m)\u001b[0m\u001b[1;33m\u001b[0m\u001b[1;33m\u001b[0m\u001b[0m\n\u001b[0m\u001b[0;32m    131\u001b[0m     \u001b[0mresponse\u001b[0m\u001b[1;33m[\u001b[0m\u001b[1;34m'image'\u001b[0m\u001b[1;33m]\u001b[0m \u001b[1;33m=\u001b[0m \u001b[0mself\u001b[0m\u001b[1;33m\u001b[0m\u001b[1;33m\u001b[0m\u001b[0m\n\u001b[0;32m    132\u001b[0m     \u001b[1;32mreturn\u001b[0m \u001b[0mresponse\u001b[0m\u001b[1;33m\u001b[0m\u001b[1;33m\u001b[0m\u001b[0m\n",
      "\u001b[1;32m~\\anaconda3\\envs\\ml\\lib\\site-packages\\ee\\data.py\u001b[0m in \u001b[0;36mgetMapId\u001b[1;34m(params)\u001b[0m\n\u001b[0;32m    567\u001b[0m   \u001b[1;31m# Make it return only the name field, as otherwise it echoes the entire\u001b[0m\u001b[1;33m\u001b[0m\u001b[1;33m\u001b[0m\u001b[1;33m\u001b[0m\u001b[0m\n\u001b[0;32m    568\u001b[0m   \u001b[1;31m# request, which might be large.\u001b[0m\u001b[1;33m\u001b[0m\u001b[1;33m\u001b[0m\u001b[1;33m\u001b[0m\u001b[0m\n\u001b[1;32m--> 569\u001b[1;33m   result = _execute_cloud_call(\n\u001b[0m\u001b[0;32m    570\u001b[0m       _get_cloud_api_resource().projects().maps().create(\n\u001b[0;32m    571\u001b[0m           parent=_get_projects_path(), fields='name', body=request))\n",
      "\u001b[1;32m~\\anaconda3\\envs\\ml\\lib\\site-packages\\ee\\data.py\u001b[0m in \u001b[0;36m_execute_cloud_call\u001b[1;34m(call, num_retries)\u001b[0m\n\u001b[0;32m    330\u001b[0m     \u001b[1;32mreturn\u001b[0m \u001b[0mcall\u001b[0m\u001b[1;33m.\u001b[0m\u001b[0mexecute\u001b[0m\u001b[1;33m(\u001b[0m\u001b[0mnum_retries\u001b[0m\u001b[1;33m=\u001b[0m\u001b[0mnum_retries\u001b[0m\u001b[1;33m)\u001b[0m\u001b[1;33m\u001b[0m\u001b[1;33m\u001b[0m\u001b[0m\n\u001b[0;32m    331\u001b[0m   \u001b[1;32mexcept\u001b[0m \u001b[0mgoogleapiclient\u001b[0m\u001b[1;33m.\u001b[0m\u001b[0merrors\u001b[0m\u001b[1;33m.\u001b[0m\u001b[0mHttpError\u001b[0m \u001b[1;32mas\u001b[0m \u001b[0me\u001b[0m\u001b[1;33m:\u001b[0m\u001b[1;33m\u001b[0m\u001b[1;33m\u001b[0m\u001b[0m\n\u001b[1;32m--> 332\u001b[1;33m     \u001b[1;32mraise\u001b[0m \u001b[0m_translate_cloud_exception\u001b[0m\u001b[1;33m(\u001b[0m\u001b[0me\u001b[0m\u001b[1;33m)\u001b[0m\u001b[1;33m\u001b[0m\u001b[1;33m\u001b[0m\u001b[0m\n\u001b[0m\u001b[0;32m    333\u001b[0m \u001b[1;33m\u001b[0m\u001b[0m\n\u001b[0;32m    334\u001b[0m \u001b[1;33m\u001b[0m\u001b[0m\n",
      "\u001b[1;31mEEException\u001b[0m: List.sequence: Sequence size must be >= 0.  Found -8."
     ]
    }
   ],
   "source": [
    "import geemap\n",
    "Map = geemap.Map()\n",
    "\n",
    "lat_grid = geemap.latitude_grid(step=5.0, west=-180, east=180, south=-85, north=85)\n",
    "Map.addLayer(lat_grid, {}, 'Latitude Grid')\n",
    "lon_grid = geemap.longitude_grid(step=5.0, west=-180, east=180, south=-85, north=85)\n",
    "Map = geemap.Map()\n",
    "Map.addLayer(lon_grid, {}, 'Longitude Grid')\n",
    "grid = geemap.latlon_grid(\n",
    "    lat_step=10, lon_step=10, west=22.943913, east=22.985708, south=39.359785, north=39.376838\n",
    ")\n",
    "Map = geemap.Map()\n",
    "#df = geemap.ee_to_df(grid)\n",
    "\n",
    "Map.addLayer(grid, {}, 'Coordinate Grid')\n",
    "Map"
   ]
  },
  {
   "cell_type": "markdown",
   "id": "a36e9aec",
   "metadata": {},
   "source": [
    "# APO DW KAI  KATW EXW KATI DOKIMASTIKA GIA TO SPLITTING"
   ]
  },
  {
   "cell_type": "code",
   "execution_count": 146,
   "id": "a4a99bc5",
   "metadata": {},
   "outputs": [],
   "source": [
    "#https://stackoverflow.com/questions/63876018/cut-a-shapely-polygon-into-n-equally-sized-polygons"
   ]
  },
  {
   "cell_type": "code",
   "execution_count": 351,
   "id": "6c09f97a",
   "metadata": {},
   "outputs": [],
   "source": [
    "# Now that we loaded and projected our shapefile, we will proceed to create a grid"
   ]
  },
  {
   "cell_type": "code",
   "execution_count": 22,
   "id": "0b960aee",
   "metadata": {},
   "outputs": [
    {
     "name": "stderr",
     "output_type": "stream",
     "text": [
      "usage: ipykernel_launcher.py [-h] COLS ROWS INPUT_PATH OUTPUT_DIR\n",
      "ipykernel_launcher.py: error: argument COLS: invalid int value: 'C:\\\\Users\\\\Christos\\\\AppData\\\\Roaming\\\\jupyter\\\\runtime\\\\kernel-7ea5b848-d74a-4e7e-be9b-f57dc7263843.json'\n",
      "ERROR:root:Internal Python error in the inspect module.\n",
      "Below is the traceback from this internal error.\n",
      "\n"
     ]
    },
    {
     "name": "stdout",
     "output_type": "stream",
     "text": [
      "Traceback (most recent call last):\n",
      "  File \"C:\\Users\\Christos\\anaconda3\\envs\\ml\\lib\\argparse.py\", line 2476, in _get_value\n",
      "    result = type_func(arg_string)\n",
      "ValueError: invalid literal for int() with base 10: 'C:\\\\Users\\\\Christos\\\\AppData\\\\Roaming\\\\jupyter\\\\runtime\\\\kernel-7ea5b848-d74a-4e7e-be9b-f57dc7263843.json'\n",
      "\n",
      "During handling of the above exception, another exception occurred:\n",
      "\n",
      "Traceback (most recent call last):\n",
      "  File \"C:\\Users\\Christos\\anaconda3\\envs\\ml\\lib\\argparse.py\", line 1851, in parse_known_args\n",
      "    namespace, args = self._parse_known_args(args, namespace)\n",
      "  File \"C:\\Users\\Christos\\anaconda3\\envs\\ml\\lib\\argparse.py\", line 2063, in _parse_known_args\n",
      "    stop_index = consume_positionals(start_index)\n",
      "  File \"C:\\Users\\Christos\\anaconda3\\envs\\ml\\lib\\argparse.py\", line 2019, in consume_positionals\n",
      "    take_action(action, args)\n",
      "  File \"C:\\Users\\Christos\\anaconda3\\envs\\ml\\lib\\argparse.py\", line 1912, in take_action\n",
      "    argument_values = self._get_values(action, argument_strings)\n",
      "  File \"C:\\Users\\Christos\\anaconda3\\envs\\ml\\lib\\argparse.py\", line 2443, in _get_values\n",
      "    value = self._get_value(action, arg_string)\n",
      "  File \"C:\\Users\\Christos\\anaconda3\\envs\\ml\\lib\\argparse.py\", line 2489, in _get_value\n",
      "    raise ArgumentError(action, msg % args)\n",
      "argparse.ArgumentError: argument COLS: invalid int value: 'C:\\\\Users\\\\Christos\\\\AppData\\\\Roaming\\\\jupyter\\\\runtime\\\\kernel-7ea5b848-d74a-4e7e-be9b-f57dc7263843.json'\n",
      "\n",
      "During handling of the above exception, another exception occurred:\n",
      "\n",
      "Traceback (most recent call last):\n",
      "  File \"C:\\Users\\Christos\\anaconda3\\envs\\ml\\lib\\site-packages\\IPython\\core\\interactiveshell.py\", line 3441, in run_code\n",
      "    exec(code_obj, self.user_global_ns, self.user_ns)\n",
      "  File \"C:\\Users\\Christos\\AppData\\Local\\Temp/ipykernel_18064/2968842903.py\", line 49, in <module>\n",
      "    args = parser.parse_args()\n",
      "  File \"C:\\Users\\Christos\\anaconda3\\envs\\ml\\lib\\argparse.py\", line 1818, in parse_args\n",
      "    args, argv = self.parse_known_args(args, namespace)\n",
      "  File \"C:\\Users\\Christos\\anaconda3\\envs\\ml\\lib\\argparse.py\", line 1854, in parse_known_args\n",
      "    self.error(str(err))\n",
      "  File \"C:\\Users\\Christos\\anaconda3\\envs\\ml\\lib\\argparse.py\", line 2575, in error\n",
      "    self.exit(2, _('%(prog)s: error: %(message)s\\n') % args)\n",
      "  File \"C:\\Users\\Christos\\anaconda3\\envs\\ml\\lib\\argparse.py\", line 2562, in exit\n",
      "    _sys.exit(status)\n",
      "SystemExit: 2\n",
      "\n",
      "During handling of the above exception, another exception occurred:\n",
      "\n",
      "Traceback (most recent call last):\n",
      "  File \"C:\\Users\\Christos\\anaconda3\\envs\\ml\\lib\\site-packages\\IPython\\core\\ultratb.py\", line 1101, in get_records\n",
      "    return _fixed_getinnerframes(etb, number_of_lines_of_context, tb_offset)\n",
      "  File \"C:\\Users\\Christos\\anaconda3\\envs\\ml\\lib\\site-packages\\IPython\\core\\ultratb.py\", line 248, in wrapped\n",
      "    return f(*args, **kwargs)\n",
      "  File \"C:\\Users\\Christos\\anaconda3\\envs\\ml\\lib\\site-packages\\IPython\\core\\ultratb.py\", line 281, in _fixed_getinnerframes\n",
      "    records = fix_frame_records_filenames(inspect.getinnerframes(etb, context))\n",
      "  File \"C:\\Users\\Christos\\anaconda3\\envs\\ml\\lib\\inspect.py\", line 1541, in getinnerframes\n",
      "    frameinfo = (tb.tb_frame,) + getframeinfo(tb, context)\n",
      "AttributeError: 'tuple' object has no attribute 'tb_frame'\n"
     ]
    },
    {
     "ename": "TypeError",
     "evalue": "object of type 'NoneType' has no len()",
     "output_type": "error",
     "traceback": [
      "\u001b[1;31m---------------------------------------------------------------------------\u001b[0m",
      "\u001b[1;31mValueError\u001b[0m                                Traceback (most recent call last)",
      "\u001b[1;32m~\\anaconda3\\envs\\ml\\lib\\argparse.py\u001b[0m in \u001b[0;36m_get_value\u001b[1;34m(self, action, arg_string)\u001b[0m\n\u001b[0;32m   2475\u001b[0m         \u001b[1;32mtry\u001b[0m\u001b[1;33m:\u001b[0m\u001b[1;33m\u001b[0m\u001b[1;33m\u001b[0m\u001b[0m\n\u001b[1;32m-> 2476\u001b[1;33m             \u001b[0mresult\u001b[0m \u001b[1;33m=\u001b[0m \u001b[0mtype_func\u001b[0m\u001b[1;33m(\u001b[0m\u001b[0marg_string\u001b[0m\u001b[1;33m)\u001b[0m\u001b[1;33m\u001b[0m\u001b[1;33m\u001b[0m\u001b[0m\n\u001b[0m\u001b[0;32m   2477\u001b[0m \u001b[1;33m\u001b[0m\u001b[0m\n",
      "\u001b[1;31mValueError\u001b[0m: invalid literal for int() with base 10: 'C:\\\\Users\\\\Christos\\\\AppData\\\\Roaming\\\\jupyter\\\\runtime\\\\kernel-7ea5b848-d74a-4e7e-be9b-f57dc7263843.json'",
      "\nDuring handling of the above exception, another exception occurred:\n",
      "\u001b[1;31mArgumentError\u001b[0m                             Traceback (most recent call last)",
      "\u001b[1;32m~\\anaconda3\\envs\\ml\\lib\\argparse.py\u001b[0m in \u001b[0;36mparse_known_args\u001b[1;34m(self, args, namespace)\u001b[0m\n\u001b[0;32m   1850\u001b[0m             \u001b[1;32mtry\u001b[0m\u001b[1;33m:\u001b[0m\u001b[1;33m\u001b[0m\u001b[1;33m\u001b[0m\u001b[0m\n\u001b[1;32m-> 1851\u001b[1;33m                 \u001b[0mnamespace\u001b[0m\u001b[1;33m,\u001b[0m \u001b[0margs\u001b[0m \u001b[1;33m=\u001b[0m \u001b[0mself\u001b[0m\u001b[1;33m.\u001b[0m\u001b[0m_parse_known_args\u001b[0m\u001b[1;33m(\u001b[0m\u001b[0margs\u001b[0m\u001b[1;33m,\u001b[0m \u001b[0mnamespace\u001b[0m\u001b[1;33m)\u001b[0m\u001b[1;33m\u001b[0m\u001b[1;33m\u001b[0m\u001b[0m\n\u001b[0m\u001b[0;32m   1852\u001b[0m             \u001b[1;32mexcept\u001b[0m \u001b[0mArgumentError\u001b[0m\u001b[1;33m:\u001b[0m\u001b[1;33m\u001b[0m\u001b[1;33m\u001b[0m\u001b[0m\n",
      "\u001b[1;32m~\\anaconda3\\envs\\ml\\lib\\argparse.py\u001b[0m in \u001b[0;36m_parse_known_args\u001b[1;34m(self, arg_strings, namespace)\u001b[0m\n\u001b[0;32m   2062\u001b[0m         \u001b[1;31m# consume any positionals following the last Optional\u001b[0m\u001b[1;33m\u001b[0m\u001b[1;33m\u001b[0m\u001b[1;33m\u001b[0m\u001b[0m\n\u001b[1;32m-> 2063\u001b[1;33m         \u001b[0mstop_index\u001b[0m \u001b[1;33m=\u001b[0m \u001b[0mconsume_positionals\u001b[0m\u001b[1;33m(\u001b[0m\u001b[0mstart_index\u001b[0m\u001b[1;33m)\u001b[0m\u001b[1;33m\u001b[0m\u001b[1;33m\u001b[0m\u001b[0m\n\u001b[0m\u001b[0;32m   2064\u001b[0m \u001b[1;33m\u001b[0m\u001b[0m\n",
      "\u001b[1;32m~\\anaconda3\\envs\\ml\\lib\\argparse.py\u001b[0m in \u001b[0;36mconsume_positionals\u001b[1;34m(start_index)\u001b[0m\n\u001b[0;32m   2018\u001b[0m                 \u001b[0mstart_index\u001b[0m \u001b[1;33m+=\u001b[0m \u001b[0marg_count\u001b[0m\u001b[1;33m\u001b[0m\u001b[1;33m\u001b[0m\u001b[0m\n\u001b[1;32m-> 2019\u001b[1;33m                 \u001b[0mtake_action\u001b[0m\u001b[1;33m(\u001b[0m\u001b[0maction\u001b[0m\u001b[1;33m,\u001b[0m \u001b[0margs\u001b[0m\u001b[1;33m)\u001b[0m\u001b[1;33m\u001b[0m\u001b[1;33m\u001b[0m\u001b[0m\n\u001b[0m\u001b[0;32m   2020\u001b[0m \u001b[1;33m\u001b[0m\u001b[0m\n",
      "\u001b[1;32m~\\anaconda3\\envs\\ml\\lib\\argparse.py\u001b[0m in \u001b[0;36mtake_action\u001b[1;34m(action, argument_strings, option_string)\u001b[0m\n\u001b[0;32m   1911\u001b[0m             \u001b[0mseen_actions\u001b[0m\u001b[1;33m.\u001b[0m\u001b[0madd\u001b[0m\u001b[1;33m(\u001b[0m\u001b[0maction\u001b[0m\u001b[1;33m)\u001b[0m\u001b[1;33m\u001b[0m\u001b[1;33m\u001b[0m\u001b[0m\n\u001b[1;32m-> 1912\u001b[1;33m             \u001b[0margument_values\u001b[0m \u001b[1;33m=\u001b[0m \u001b[0mself\u001b[0m\u001b[1;33m.\u001b[0m\u001b[0m_get_values\u001b[0m\u001b[1;33m(\u001b[0m\u001b[0maction\u001b[0m\u001b[1;33m,\u001b[0m \u001b[0margument_strings\u001b[0m\u001b[1;33m)\u001b[0m\u001b[1;33m\u001b[0m\u001b[1;33m\u001b[0m\u001b[0m\n\u001b[0m\u001b[0;32m   1913\u001b[0m \u001b[1;33m\u001b[0m\u001b[0m\n",
      "\u001b[1;32m~\\anaconda3\\envs\\ml\\lib\\argparse.py\u001b[0m in \u001b[0;36m_get_values\u001b[1;34m(self, action, arg_strings)\u001b[0m\n\u001b[0;32m   2442\u001b[0m             \u001b[0marg_string\u001b[0m\u001b[1;33m,\u001b[0m \u001b[1;33m=\u001b[0m \u001b[0marg_strings\u001b[0m\u001b[1;33m\u001b[0m\u001b[1;33m\u001b[0m\u001b[0m\n\u001b[1;32m-> 2443\u001b[1;33m             \u001b[0mvalue\u001b[0m \u001b[1;33m=\u001b[0m \u001b[0mself\u001b[0m\u001b[1;33m.\u001b[0m\u001b[0m_get_value\u001b[0m\u001b[1;33m(\u001b[0m\u001b[0maction\u001b[0m\u001b[1;33m,\u001b[0m \u001b[0marg_string\u001b[0m\u001b[1;33m)\u001b[0m\u001b[1;33m\u001b[0m\u001b[1;33m\u001b[0m\u001b[0m\n\u001b[0m\u001b[0;32m   2444\u001b[0m             \u001b[0mself\u001b[0m\u001b[1;33m.\u001b[0m\u001b[0m_check_value\u001b[0m\u001b[1;33m(\u001b[0m\u001b[0maction\u001b[0m\u001b[1;33m,\u001b[0m \u001b[0mvalue\u001b[0m\u001b[1;33m)\u001b[0m\u001b[1;33m\u001b[0m\u001b[1;33m\u001b[0m\u001b[0m\n",
      "\u001b[1;32m~\\anaconda3\\envs\\ml\\lib\\argparse.py\u001b[0m in \u001b[0;36m_get_value\u001b[1;34m(self, action, arg_string)\u001b[0m\n\u001b[0;32m   2488\u001b[0m             \u001b[0mmsg\u001b[0m \u001b[1;33m=\u001b[0m \u001b[0m_\u001b[0m\u001b[1;33m(\u001b[0m\u001b[1;34m'invalid %(type)s value: %(value)r'\u001b[0m\u001b[1;33m)\u001b[0m\u001b[1;33m\u001b[0m\u001b[1;33m\u001b[0m\u001b[0m\n\u001b[1;32m-> 2489\u001b[1;33m             \u001b[1;32mraise\u001b[0m \u001b[0mArgumentError\u001b[0m\u001b[1;33m(\u001b[0m\u001b[0maction\u001b[0m\u001b[1;33m,\u001b[0m \u001b[0mmsg\u001b[0m \u001b[1;33m%\u001b[0m \u001b[0margs\u001b[0m\u001b[1;33m)\u001b[0m\u001b[1;33m\u001b[0m\u001b[1;33m\u001b[0m\u001b[0m\n\u001b[0m\u001b[0;32m   2490\u001b[0m \u001b[1;33m\u001b[0m\u001b[0m\n",
      "\u001b[1;31mArgumentError\u001b[0m: argument COLS: invalid int value: 'C:\\\\Users\\\\Christos\\\\AppData\\\\Roaming\\\\jupyter\\\\runtime\\\\kernel-7ea5b848-d74a-4e7e-be9b-f57dc7263843.json'",
      "\nDuring handling of the above exception, another exception occurred:\n",
      "\u001b[1;31mSystemExit\u001b[0m                                Traceback (most recent call last)",
      "    \u001b[1;31m[... skipping hidden 1 frame]\u001b[0m\n",
      "\u001b[1;32m~\\AppData\\Local\\Temp/ipykernel_18064/2968842903.py\u001b[0m in \u001b[0;36m<module>\u001b[1;34m\u001b[0m\n\u001b[0;32m     48\u001b[0m \u001b[1;33m\u001b[0m\u001b[0m\n\u001b[1;32m---> 49\u001b[1;33m     \u001b[0margs\u001b[0m \u001b[1;33m=\u001b[0m \u001b[0mparser\u001b[0m\u001b[1;33m.\u001b[0m\u001b[0mparse_args\u001b[0m\u001b[1;33m(\u001b[0m\u001b[1;33m)\u001b[0m\u001b[1;33m\u001b[0m\u001b[1;33m\u001b[0m\u001b[0m\n\u001b[0m\u001b[0;32m     50\u001b[0m \u001b[1;33m\u001b[0m\u001b[0m\n",
      "\u001b[1;32m~\\anaconda3\\envs\\ml\\lib\\argparse.py\u001b[0m in \u001b[0;36mparse_args\u001b[1;34m(self, args, namespace)\u001b[0m\n\u001b[0;32m   1817\u001b[0m     \u001b[1;32mdef\u001b[0m \u001b[0mparse_args\u001b[0m\u001b[1;33m(\u001b[0m\u001b[0mself\u001b[0m\u001b[1;33m,\u001b[0m \u001b[0margs\u001b[0m\u001b[1;33m=\u001b[0m\u001b[1;32mNone\u001b[0m\u001b[1;33m,\u001b[0m \u001b[0mnamespace\u001b[0m\u001b[1;33m=\u001b[0m\u001b[1;32mNone\u001b[0m\u001b[1;33m)\u001b[0m\u001b[1;33m:\u001b[0m\u001b[1;33m\u001b[0m\u001b[1;33m\u001b[0m\u001b[0m\n\u001b[1;32m-> 1818\u001b[1;33m         \u001b[0margs\u001b[0m\u001b[1;33m,\u001b[0m \u001b[0margv\u001b[0m \u001b[1;33m=\u001b[0m \u001b[0mself\u001b[0m\u001b[1;33m.\u001b[0m\u001b[0mparse_known_args\u001b[0m\u001b[1;33m(\u001b[0m\u001b[0margs\u001b[0m\u001b[1;33m,\u001b[0m \u001b[0mnamespace\u001b[0m\u001b[1;33m)\u001b[0m\u001b[1;33m\u001b[0m\u001b[1;33m\u001b[0m\u001b[0m\n\u001b[0m\u001b[0;32m   1819\u001b[0m         \u001b[1;32mif\u001b[0m \u001b[0margv\u001b[0m\u001b[1;33m:\u001b[0m\u001b[1;33m\u001b[0m\u001b[1;33m\u001b[0m\u001b[0m\n",
      "\u001b[1;32m~\\anaconda3\\envs\\ml\\lib\\argparse.py\u001b[0m in \u001b[0;36mparse_known_args\u001b[1;34m(self, args, namespace)\u001b[0m\n\u001b[0;32m   1853\u001b[0m                 \u001b[0merr\u001b[0m \u001b[1;33m=\u001b[0m \u001b[0m_sys\u001b[0m\u001b[1;33m.\u001b[0m\u001b[0mexc_info\u001b[0m\u001b[1;33m(\u001b[0m\u001b[1;33m)\u001b[0m\u001b[1;33m[\u001b[0m\u001b[1;36m1\u001b[0m\u001b[1;33m]\u001b[0m\u001b[1;33m\u001b[0m\u001b[1;33m\u001b[0m\u001b[0m\n\u001b[1;32m-> 1854\u001b[1;33m                 \u001b[0mself\u001b[0m\u001b[1;33m.\u001b[0m\u001b[0merror\u001b[0m\u001b[1;33m(\u001b[0m\u001b[0mstr\u001b[0m\u001b[1;33m(\u001b[0m\u001b[0merr\u001b[0m\u001b[1;33m)\u001b[0m\u001b[1;33m)\u001b[0m\u001b[1;33m\u001b[0m\u001b[1;33m\u001b[0m\u001b[0m\n\u001b[0m\u001b[0;32m   1855\u001b[0m         \u001b[1;32melse\u001b[0m\u001b[1;33m:\u001b[0m\u001b[1;33m\u001b[0m\u001b[1;33m\u001b[0m\u001b[0m\n",
      "\u001b[1;32m~\\anaconda3\\envs\\ml\\lib\\argparse.py\u001b[0m in \u001b[0;36merror\u001b[1;34m(self, message)\u001b[0m\n\u001b[0;32m   2574\u001b[0m         \u001b[0margs\u001b[0m \u001b[1;33m=\u001b[0m \u001b[1;33m{\u001b[0m\u001b[1;34m'prog'\u001b[0m\u001b[1;33m:\u001b[0m \u001b[0mself\u001b[0m\u001b[1;33m.\u001b[0m\u001b[0mprog\u001b[0m\u001b[1;33m,\u001b[0m \u001b[1;34m'message'\u001b[0m\u001b[1;33m:\u001b[0m \u001b[0mmessage\u001b[0m\u001b[1;33m}\u001b[0m\u001b[1;33m\u001b[0m\u001b[1;33m\u001b[0m\u001b[0m\n\u001b[1;32m-> 2575\u001b[1;33m         \u001b[0mself\u001b[0m\u001b[1;33m.\u001b[0m\u001b[0mexit\u001b[0m\u001b[1;33m(\u001b[0m\u001b[1;36m2\u001b[0m\u001b[1;33m,\u001b[0m \u001b[0m_\u001b[0m\u001b[1;33m(\u001b[0m\u001b[1;34m'%(prog)s: error: %(message)s\\n'\u001b[0m\u001b[1;33m)\u001b[0m \u001b[1;33m%\u001b[0m \u001b[0margs\u001b[0m\u001b[1;33m)\u001b[0m\u001b[1;33m\u001b[0m\u001b[1;33m\u001b[0m\u001b[0m\n\u001b[0m",
      "\u001b[1;32m~\\anaconda3\\envs\\ml\\lib\\argparse.py\u001b[0m in \u001b[0;36mexit\u001b[1;34m(self, status, message)\u001b[0m\n\u001b[0;32m   2561\u001b[0m             \u001b[0mself\u001b[0m\u001b[1;33m.\u001b[0m\u001b[0m_print_message\u001b[0m\u001b[1;33m(\u001b[0m\u001b[0mmessage\u001b[0m\u001b[1;33m,\u001b[0m \u001b[0m_sys\u001b[0m\u001b[1;33m.\u001b[0m\u001b[0mstderr\u001b[0m\u001b[1;33m)\u001b[0m\u001b[1;33m\u001b[0m\u001b[1;33m\u001b[0m\u001b[0m\n\u001b[1;32m-> 2562\u001b[1;33m         \u001b[0m_sys\u001b[0m\u001b[1;33m.\u001b[0m\u001b[0mexit\u001b[0m\u001b[1;33m(\u001b[0m\u001b[0mstatus\u001b[0m\u001b[1;33m)\u001b[0m\u001b[1;33m\u001b[0m\u001b[1;33m\u001b[0m\u001b[0m\n\u001b[0m\u001b[0;32m   2563\u001b[0m \u001b[1;33m\u001b[0m\u001b[0m\n",
      "\u001b[1;31mSystemExit\u001b[0m: 2",
      "\nDuring handling of the above exception, another exception occurred:\n",
      "\u001b[1;31mTypeError\u001b[0m                                 Traceback (most recent call last)",
      "    \u001b[1;31m[... skipping hidden 1 frame]\u001b[0m\n",
      "\u001b[1;32m~\\anaconda3\\envs\\ml\\lib\\site-packages\\IPython\\core\\interactiveshell.py\u001b[0m in \u001b[0;36mshowtraceback\u001b[1;34m(self, exc_tuple, filename, tb_offset, exception_only, running_compiled_code)\u001b[0m\n\u001b[0;32m   2052\u001b[0m                     stb = ['An exception has occurred, use %tb to see '\n\u001b[0;32m   2053\u001b[0m                            'the full traceback.\\n']\n\u001b[1;32m-> 2054\u001b[1;33m                     stb.extend(self.InteractiveTB.get_exception_only(etype,\n\u001b[0m\u001b[0;32m   2055\u001b[0m                                                                      value))\n\u001b[0;32m   2056\u001b[0m                 \u001b[1;32melse\u001b[0m\u001b[1;33m:\u001b[0m\u001b[1;33m\u001b[0m\u001b[1;33m\u001b[0m\u001b[0m\n",
      "\u001b[1;32m~\\anaconda3\\envs\\ml\\lib\\site-packages\\IPython\\core\\ultratb.py\u001b[0m in \u001b[0;36mget_exception_only\u001b[1;34m(self, etype, value)\u001b[0m\n\u001b[0;32m    752\u001b[0m         \u001b[0mvalue\u001b[0m \u001b[1;33m:\u001b[0m \u001b[0mexception\u001b[0m \u001b[0mvalue\u001b[0m\u001b[1;33m\u001b[0m\u001b[1;33m\u001b[0m\u001b[0m\n\u001b[0;32m    753\u001b[0m         \"\"\"\n\u001b[1;32m--> 754\u001b[1;33m         \u001b[1;32mreturn\u001b[0m \u001b[0mListTB\u001b[0m\u001b[1;33m.\u001b[0m\u001b[0mstructured_traceback\u001b[0m\u001b[1;33m(\u001b[0m\u001b[0mself\u001b[0m\u001b[1;33m,\u001b[0m \u001b[0metype\u001b[0m\u001b[1;33m,\u001b[0m \u001b[0mvalue\u001b[0m\u001b[1;33m)\u001b[0m\u001b[1;33m\u001b[0m\u001b[1;33m\u001b[0m\u001b[0m\n\u001b[0m\u001b[0;32m    755\u001b[0m \u001b[1;33m\u001b[0m\u001b[0m\n\u001b[0;32m    756\u001b[0m     \u001b[1;32mdef\u001b[0m \u001b[0mshow_exception_only\u001b[0m\u001b[1;33m(\u001b[0m\u001b[0mself\u001b[0m\u001b[1;33m,\u001b[0m \u001b[0metype\u001b[0m\u001b[1;33m,\u001b[0m \u001b[0mevalue\u001b[0m\u001b[1;33m)\u001b[0m\u001b[1;33m:\u001b[0m\u001b[1;33m\u001b[0m\u001b[1;33m\u001b[0m\u001b[0m\n",
      "\u001b[1;32m~\\anaconda3\\envs\\ml\\lib\\site-packages\\IPython\\core\\ultratb.py\u001b[0m in \u001b[0;36mstructured_traceback\u001b[1;34m(self, etype, evalue, etb, tb_offset, context)\u001b[0m\n\u001b[0;32m    627\u001b[0m             \u001b[0mchained_exceptions_tb_offset\u001b[0m \u001b[1;33m=\u001b[0m \u001b[1;36m0\u001b[0m\u001b[1;33m\u001b[0m\u001b[1;33m\u001b[0m\u001b[0m\n\u001b[0;32m    628\u001b[0m             out_list = (\n\u001b[1;32m--> 629\u001b[1;33m                 self.structured_traceback(\n\u001b[0m\u001b[0;32m    630\u001b[0m                     \u001b[0metype\u001b[0m\u001b[1;33m,\u001b[0m \u001b[0mevalue\u001b[0m\u001b[1;33m,\u001b[0m \u001b[1;33m(\u001b[0m\u001b[0metb\u001b[0m\u001b[1;33m,\u001b[0m \u001b[0mchained_exc_ids\u001b[0m\u001b[1;33m)\u001b[0m\u001b[1;33m,\u001b[0m\u001b[1;33m\u001b[0m\u001b[1;33m\u001b[0m\u001b[0m\n\u001b[0;32m    631\u001b[0m                     chained_exceptions_tb_offset, context)\n",
      "\u001b[1;32m~\\anaconda3\\envs\\ml\\lib\\site-packages\\IPython\\core\\ultratb.py\u001b[0m in \u001b[0;36mstructured_traceback\u001b[1;34m(self, etype, value, tb, tb_offset, number_of_lines_of_context)\u001b[0m\n\u001b[0;32m   1365\u001b[0m         \u001b[1;32melse\u001b[0m\u001b[1;33m:\u001b[0m\u001b[1;33m\u001b[0m\u001b[1;33m\u001b[0m\u001b[0m\n\u001b[0;32m   1366\u001b[0m             \u001b[0mself\u001b[0m\u001b[1;33m.\u001b[0m\u001b[0mtb\u001b[0m \u001b[1;33m=\u001b[0m \u001b[0mtb\u001b[0m\u001b[1;33m\u001b[0m\u001b[1;33m\u001b[0m\u001b[0m\n\u001b[1;32m-> 1367\u001b[1;33m         return FormattedTB.structured_traceback(\n\u001b[0m\u001b[0;32m   1368\u001b[0m             self, etype, value, tb, tb_offset, number_of_lines_of_context)\n\u001b[0;32m   1369\u001b[0m \u001b[1;33m\u001b[0m\u001b[0m\n",
      "\u001b[1;32m~\\anaconda3\\envs\\ml\\lib\\site-packages\\IPython\\core\\ultratb.py\u001b[0m in \u001b[0;36mstructured_traceback\u001b[1;34m(self, etype, value, tb, tb_offset, number_of_lines_of_context)\u001b[0m\n\u001b[0;32m   1265\u001b[0m         \u001b[1;32mif\u001b[0m \u001b[0mmode\u001b[0m \u001b[1;32min\u001b[0m \u001b[0mself\u001b[0m\u001b[1;33m.\u001b[0m\u001b[0mverbose_modes\u001b[0m\u001b[1;33m:\u001b[0m\u001b[1;33m\u001b[0m\u001b[1;33m\u001b[0m\u001b[0m\n\u001b[0;32m   1266\u001b[0m             \u001b[1;31m# Verbose modes need a full traceback\u001b[0m\u001b[1;33m\u001b[0m\u001b[1;33m\u001b[0m\u001b[1;33m\u001b[0m\u001b[0m\n\u001b[1;32m-> 1267\u001b[1;33m             return VerboseTB.structured_traceback(\n\u001b[0m\u001b[0;32m   1268\u001b[0m                 \u001b[0mself\u001b[0m\u001b[1;33m,\u001b[0m \u001b[0metype\u001b[0m\u001b[1;33m,\u001b[0m \u001b[0mvalue\u001b[0m\u001b[1;33m,\u001b[0m \u001b[0mtb\u001b[0m\u001b[1;33m,\u001b[0m \u001b[0mtb_offset\u001b[0m\u001b[1;33m,\u001b[0m \u001b[0mnumber_of_lines_of_context\u001b[0m\u001b[1;33m\u001b[0m\u001b[1;33m\u001b[0m\u001b[0m\n\u001b[0;32m   1269\u001b[0m             )\n",
      "\u001b[1;32m~\\anaconda3\\envs\\ml\\lib\\site-packages\\IPython\\core\\ultratb.py\u001b[0m in \u001b[0;36mstructured_traceback\u001b[1;34m(self, etype, evalue, etb, tb_offset, number_of_lines_of_context)\u001b[0m\n\u001b[0;32m   1122\u001b[0m         \u001b[1;34m\"\"\"Return a nice text document describing the traceback.\"\"\"\u001b[0m\u001b[1;33m\u001b[0m\u001b[1;33m\u001b[0m\u001b[0m\n\u001b[0;32m   1123\u001b[0m \u001b[1;33m\u001b[0m\u001b[0m\n\u001b[1;32m-> 1124\u001b[1;33m         formatted_exception = self.format_exception_as_a_whole(etype, evalue, etb, number_of_lines_of_context,\n\u001b[0m\u001b[0;32m   1125\u001b[0m                                                                tb_offset)\n\u001b[0;32m   1126\u001b[0m \u001b[1;33m\u001b[0m\u001b[0m\n",
      "\u001b[1;32m~\\anaconda3\\envs\\ml\\lib\\site-packages\\IPython\\core\\ultratb.py\u001b[0m in \u001b[0;36mformat_exception_as_a_whole\u001b[1;34m(self, etype, evalue, etb, number_of_lines_of_context, tb_offset)\u001b[0m\n\u001b[0;32m   1080\u001b[0m \u001b[1;33m\u001b[0m\u001b[0m\n\u001b[0;32m   1081\u001b[0m \u001b[1;33m\u001b[0m\u001b[0m\n\u001b[1;32m-> 1082\u001b[1;33m         \u001b[0mlast_unique\u001b[0m\u001b[1;33m,\u001b[0m \u001b[0mrecursion_repeat\u001b[0m \u001b[1;33m=\u001b[0m \u001b[0mfind_recursion\u001b[0m\u001b[1;33m(\u001b[0m\u001b[0morig_etype\u001b[0m\u001b[1;33m,\u001b[0m \u001b[0mevalue\u001b[0m\u001b[1;33m,\u001b[0m \u001b[0mrecords\u001b[0m\u001b[1;33m)\u001b[0m\u001b[1;33m\u001b[0m\u001b[1;33m\u001b[0m\u001b[0m\n\u001b[0m\u001b[0;32m   1083\u001b[0m \u001b[1;33m\u001b[0m\u001b[0m\n\u001b[0;32m   1084\u001b[0m         \u001b[0mframes\u001b[0m \u001b[1;33m=\u001b[0m \u001b[0mself\u001b[0m\u001b[1;33m.\u001b[0m\u001b[0mformat_records\u001b[0m\u001b[1;33m(\u001b[0m\u001b[0mrecords\u001b[0m\u001b[1;33m,\u001b[0m \u001b[0mlast_unique\u001b[0m\u001b[1;33m,\u001b[0m \u001b[0mrecursion_repeat\u001b[0m\u001b[1;33m)\u001b[0m\u001b[1;33m\u001b[0m\u001b[1;33m\u001b[0m\u001b[0m\n",
      "\u001b[1;32m~\\anaconda3\\envs\\ml\\lib\\site-packages\\IPython\\core\\ultratb.py\u001b[0m in \u001b[0;36mfind_recursion\u001b[1;34m(etype, value, records)\u001b[0m\n\u001b[0;32m    380\u001b[0m     \u001b[1;31m# first frame (from in to out) that looks different.\u001b[0m\u001b[1;33m\u001b[0m\u001b[1;33m\u001b[0m\u001b[1;33m\u001b[0m\u001b[0m\n\u001b[0;32m    381\u001b[0m     \u001b[1;32mif\u001b[0m \u001b[1;32mnot\u001b[0m \u001b[0mis_recursion_error\u001b[0m\u001b[1;33m(\u001b[0m\u001b[0metype\u001b[0m\u001b[1;33m,\u001b[0m \u001b[0mvalue\u001b[0m\u001b[1;33m,\u001b[0m \u001b[0mrecords\u001b[0m\u001b[1;33m)\u001b[0m\u001b[1;33m:\u001b[0m\u001b[1;33m\u001b[0m\u001b[1;33m\u001b[0m\u001b[0m\n\u001b[1;32m--> 382\u001b[1;33m         \u001b[1;32mreturn\u001b[0m \u001b[0mlen\u001b[0m\u001b[1;33m(\u001b[0m\u001b[0mrecords\u001b[0m\u001b[1;33m)\u001b[0m\u001b[1;33m,\u001b[0m \u001b[1;36m0\u001b[0m\u001b[1;33m\u001b[0m\u001b[1;33m\u001b[0m\u001b[0m\n\u001b[0m\u001b[0;32m    383\u001b[0m \u001b[1;33m\u001b[0m\u001b[0m\n\u001b[0;32m    384\u001b[0m     \u001b[1;31m# Select filename, lineno, func_name to track frames with\u001b[0m\u001b[1;33m\u001b[0m\u001b[1;33m\u001b[0m\u001b[1;33m\u001b[0m\u001b[0m\n",
      "\u001b[1;31mTypeError\u001b[0m: object of type 'NoneType' has no len()"
     ]
    }
   ],
   "source": [
    "## https://gist.github.com/lossyrob/7b620e6d2193cb55fbd0bffacf27f7f2\n",
    "\n",
    "import os, sys\n",
    "import argparse\n",
    "from shapely.geometry import shape, mapping, box\n",
    "import json\n",
    "\n",
    "def split_geom(geometry, output_dir, base_name, cols, rows):\n",
    "    bounds  = geometry.bounds\n",
    "    xmin = bounds[0]\n",
    "    xmax =  bounds[2]\n",
    "    ymin = bounds[1]\n",
    "    ymax = bounds[3]\n",
    "    dx = (xmax - xmin) / cols\n",
    "    dy = (ymax - ymin) / rows\n",
    "    cut_geoms = {}\n",
    "    for row in range(0, rows):\n",
    "        for col in range(0, cols):\n",
    "            b = box(xmin + (col * dx),\n",
    "                    ymax - ((row + 1) * dy),\n",
    "                    xmin + ((col + 1) * dx),\n",
    "                    ymax - (row * dy))\n",
    "            g = geometry.intersection(b)\n",
    "            if not g.is_empty:\n",
    "                cut_geoms[(col, row)] = g\n",
    "    if not os.path.exists(output_dir):\n",
    "        os.makedirs(output_dir)\n",
    "    for (col, row), geom in cut_geoms.items():\n",
    "        name = \"{}_{}_{}\".format(base_name, col, row)\n",
    "        p = os.path.join(output_dir, \"{}.geojson\".format(name))\n",
    "        fc = {}\n",
    "        fc['type'] = 'FeatureCollection'\n",
    "        fc['features'] = [{ 'type': 'Feature',\n",
    "                            'properties': { 'name': name },\n",
    "                            'geometry': mapping(geom) }]\n",
    "        with open(p, 'w') as f:\n",
    "            f.write(json.dumps(fc, indent=4))\n",
    "\n",
    "\n",
    "if __name__ == '__main__':\n",
    "    parser = argparse.ArgumentParser(description='Split up an AOI.')\n",
    "    parser.add_argument('cols', metavar='COLS', type=int,\n",
    "                        help='Number of cols in the split grid.')\n",
    "    parser.add_argument('rows', metavar='ROWS', type=int,\n",
    "                        help='Number of rows in the split grid.')\n",
    "    parser.add_argument('input_path', metavar='INPUT_PATH')\n",
    "    parser.add_argument('output_dir', metavar='OUTPUT_DIR')\n",
    "\n",
    "    args = parser.parse_args()\n",
    "\n",
    "    base_name = os.path.splitext(os.path.basename(args.input_path))[0]\n",
    "\n",
    "    gj = json.loads(open(args.input_path).read())\n",
    "\n",
    "    features = gj['features']\n",
    "    if not len(features) == 1:\n",
    "        print('Feature collection must only contain one feature')\n",
    "        sys.exit(1)\n",
    "\n",
    "    geom = shape(features[0]['geometry'])\n",
    "\n",
    "    split_geom(geom, args.output_dir, base_name, args.cols, args.rows)"
   ]
  },
  {
   "cell_type": "raw",
   "id": "9bee0ad8",
   "metadata": {},
   "source": [
    "## https://github.com/YUZHANG001/Create-a-fishnet-of-an-area/blob/master/CreateFishnet.py\n",
    "from shapely import geometry\n",
    "import geopandas as gpd\n",
    "import utm\n",
    "import numpy as np\n",
    "import math\n",
    "\n",
    "\n",
    "def divide_polygons_into_grids(grid_size):\n",
    "    \"\"\"\n",
    "    shp_file: the path of a polygon shapefile, crs: {'init': 'epsg:4326'}\n",
    "    grid_size: 100m, 200m, ...\n",
    "    \"\"\"\n",
    "    # Read shapefile using geopandas\n",
    "    #boundary = gpd.read_file(shp_file)\n",
    "    boundary = volos_municipality\n",
    "    [miny, minx, maxy, maxx] = boundary.geometry.bounds.values[0]\n",
    "\n",
    "    # Transform wgs84 to UTM\n",
    "    minx, miny, zone_number, zone_letter = utm.from_latlon(minx, miny)\n",
    "    maxx, maxy, zone_number, zone_letter = utm.from_latlon(maxx, maxy)\n",
    "\n",
    "    center_p = [(minx+maxx)/2, (miny+maxy)/2]\n",
    "\n",
    "    dist_x = maxx - minx\n",
    "    dist_y = maxy - miny\n",
    "            \n",
    "    num_x = math.ceil(dist_x / grid_size)\n",
    "    num_y = math.ceil(dist_y / grid_size)\n",
    "\n",
    "    grid_minx = center_p[0] - num_x*grid_size/2\n",
    "    grid_maxx = center_p[0] + num_x*grid_size/2\n",
    "\n",
    "    grid_miny = center_p[1] - num_y*grid_size/2\n",
    "    grid_maxy = center_p[1] + num_y*grid_size/2\n",
    "\n",
    "    grids_xs = np.linspace(start=grid_minx, stop=grid_maxx, num=num_x+1, endpoint=True)\n",
    "    grids_ys = np.linspace(start=grid_miny, stop=grid_maxy, num=num_y+1, endpoint=True)\n",
    "\n",
    "    polygons = []\n",
    "    for i in range(len(grids_xs)-1):\n",
    "        for j in range(len(grids_ys)-1):\n",
    "            pointList = [[grids_xs[i], grids_ys[j]], [grids_xs[i+1], grids_ys[j]], \n",
    "                         [grids_xs[i+1], grids_ys[j+1]], [grids_xs[i], grids_ys[j+1]]]\n",
    "            pointList = [utm.to_latlon(p[0], p[1], zone_number, zone_letter) for p in pointList]\n",
    "        \n",
    "            polygons.append(geometry.Polygon([[p[1], p[0]] for p in pointList]))\n",
    "        \n",
    "    grids_shp = gpd.GeoDataFrame(geometry=polygons, crs={'init': 'epsg:4326'})\n",
    "    grids_within_bound = gpd.sjoin(grids_shp, south_side, how=\"inner\", op='intersects')\n",
    "                        \n",
    "    grids_shp = gpd.GeoDataFrame(geometry=polygons, crs={'init': 'epsg:4326'})\n",
    "    grids_within_poly = gpd.sjoin(grids_shp, boundary, how=\"inner\", op='intersects')\n",
    "    return grids_within_poly\n",
    "divide_polygons_into_grids(100)"
   ]
  },
  {
   "cell_type": "code",
   "execution_count": 70,
   "id": "17625667",
   "metadata": {},
   "outputs": [
    {
     "ename": "ValueError",
     "evalue": "The truth value of a GeoSeries is ambiguous. Use a.empty, a.bool(), a.item(), a.any() or a.all().",
     "output_type": "error",
     "traceback": [
      "\u001b[1;31m---------------------------------------------------------------------------\u001b[0m",
      "\u001b[1;31mValueError\u001b[0m                                Traceback (most recent call last)",
      "\u001b[1;32m~\\AppData\\Local\\Temp/ipykernel_18064/3520223148.py\u001b[0m in \u001b[0;36m<module>\u001b[1;34m\u001b[0m\n\u001b[1;32m----> 1\u001b[1;33m \u001b[0mgeemap\u001b[0m\u001b[1;33m.\u001b[0m\u001b[0mget_center\u001b[0m\u001b[1;33m(\u001b[0m\u001b[0mgreece\u001b[0m\u001b[1;33m,\u001b[0m \u001b[0mnorth_up\u001b[0m\u001b[1;33m=\u001b[0m\u001b[1;32mTrue\u001b[0m\u001b[1;33m,\u001b[0m \u001b[0mtransform\u001b[0m\u001b[1;33m=\u001b[0m\u001b[1;32mNone\u001b[0m\u001b[1;33m)\u001b[0m\u001b[1;33m\u001b[0m\u001b[1;33m\u001b[0m\u001b[0m\n\u001b[0m",
      "\u001b[1;32m~\\anaconda3\\envs\\ml\\lib\\site-packages\\geemap\\common.py\u001b[0m in \u001b[0;36mget_center\u001b[1;34m(geometry, north_up, transform)\u001b[0m\n\u001b[0;32m   5363\u001b[0m         \u001b[0mlist\u001b[0m\u001b[1;33m:\u001b[0m \u001b[1;33m[\u001b[0m\u001b[0mlon\u001b[0m\u001b[1;33m,\u001b[0m \u001b[0mlat\u001b[0m\u001b[1;33m]\u001b[0m\u001b[1;33m\u001b[0m\u001b[1;33m\u001b[0m\u001b[0m\n\u001b[0;32m   5364\u001b[0m     \"\"\"\n\u001b[1;32m-> 5365\u001b[1;33m     \u001b[0mbounds\u001b[0m \u001b[1;33m=\u001b[0m \u001b[0mget_bounds\u001b[0m\u001b[1;33m(\u001b[0m\u001b[0mgeometry\u001b[0m\u001b[1;33m,\u001b[0m \u001b[0mnorth_up\u001b[0m\u001b[1;33m,\u001b[0m \u001b[0mtransform\u001b[0m\u001b[1;33m)\u001b[0m\u001b[1;33m\u001b[0m\u001b[1;33m\u001b[0m\u001b[0m\n\u001b[0m\u001b[0;32m   5366\u001b[0m     \u001b[0mcenter\u001b[0m \u001b[1;33m=\u001b[0m \u001b[1;33m(\u001b[0m\u001b[1;33m(\u001b[0m\u001b[0mbounds\u001b[0m\u001b[1;33m[\u001b[0m\u001b[1;36m0\u001b[0m\u001b[1;33m]\u001b[0m \u001b[1;33m+\u001b[0m \u001b[0mbounds\u001b[0m\u001b[1;33m[\u001b[0m\u001b[1;36m2\u001b[0m\u001b[1;33m]\u001b[0m\u001b[1;33m)\u001b[0m \u001b[1;33m/\u001b[0m \u001b[1;36m2\u001b[0m\u001b[1;33m,\u001b[0m \u001b[1;33m(\u001b[0m\u001b[0mbounds\u001b[0m\u001b[1;33m[\u001b[0m\u001b[1;36m1\u001b[0m\u001b[1;33m]\u001b[0m \u001b[1;33m+\u001b[0m \u001b[0mbounds\u001b[0m\u001b[1;33m[\u001b[0m\u001b[1;36m3\u001b[0m\u001b[1;33m]\u001b[0m\u001b[1;33m)\u001b[0m \u001b[1;33m/\u001b[0m \u001b[1;36m2\u001b[0m\u001b[1;33m)\u001b[0m  \u001b[1;31m# (lat, lon)\u001b[0m\u001b[1;33m\u001b[0m\u001b[1;33m\u001b[0m\u001b[0m\n\u001b[0;32m   5367\u001b[0m     \u001b[1;32mreturn\u001b[0m \u001b[0mcenter\u001b[0m\u001b[1;33m\u001b[0m\u001b[1;33m\u001b[0m\u001b[0m\n",
      "\u001b[1;32m~\\anaconda3\\envs\\ml\\lib\\site-packages\\geemap\\common.py\u001b[0m in \u001b[0;36mget_bounds\u001b[1;34m(geometry, north_up, transform)\u001b[0m\n\u001b[0;32m   5286\u001b[0m         \u001b[1;32mreturn\u001b[0m \u001b[0mtuple\u001b[0m\u001b[1;33m(\u001b[0m\u001b[0mgeometry\u001b[0m\u001b[1;33m[\u001b[0m\u001b[1;34m\"bbox\"\u001b[0m\u001b[1;33m]\u001b[0m\u001b[1;33m)\u001b[0m\u001b[1;33m\u001b[0m\u001b[1;33m\u001b[0m\u001b[0m\n\u001b[0;32m   5287\u001b[0m \u001b[1;33m\u001b[0m\u001b[0m\n\u001b[1;32m-> 5288\u001b[1;33m     \u001b[0mgeometry\u001b[0m \u001b[1;33m=\u001b[0m \u001b[0mgeometry\u001b[0m\u001b[1;33m.\u001b[0m\u001b[0mget\u001b[0m\u001b[1;33m(\u001b[0m\u001b[1;34m\"geometry\"\u001b[0m\u001b[1;33m)\u001b[0m \u001b[1;32mor\u001b[0m \u001b[0mgeometry\u001b[0m\u001b[1;33m\u001b[0m\u001b[1;33m\u001b[0m\u001b[0m\n\u001b[0m\u001b[0;32m   5289\u001b[0m \u001b[1;33m\u001b[0m\u001b[0m\n\u001b[0;32m   5290\u001b[0m     \u001b[1;31m# geometry must be a geometry, GeometryCollection, or FeatureCollection\u001b[0m\u001b[1;33m\u001b[0m\u001b[1;33m\u001b[0m\u001b[1;33m\u001b[0m\u001b[0m\n",
      "\u001b[1;32m~\\anaconda3\\envs\\ml\\lib\\site-packages\\pandas\\core\\generic.py\u001b[0m in \u001b[0;36m__nonzero__\u001b[1;34m(self)\u001b[0m\n\u001b[0;32m   1439\u001b[0m     \u001b[1;33m@\u001b[0m\u001b[0mfinal\u001b[0m\u001b[1;33m\u001b[0m\u001b[1;33m\u001b[0m\u001b[0m\n\u001b[0;32m   1440\u001b[0m     \u001b[1;32mdef\u001b[0m \u001b[0m__nonzero__\u001b[0m\u001b[1;33m(\u001b[0m\u001b[0mself\u001b[0m\u001b[1;33m)\u001b[0m\u001b[1;33m:\u001b[0m\u001b[1;33m\u001b[0m\u001b[1;33m\u001b[0m\u001b[0m\n\u001b[1;32m-> 1441\u001b[1;33m         raise ValueError(\n\u001b[0m\u001b[0;32m   1442\u001b[0m             \u001b[1;34mf\"The truth value of a {type(self).__name__} is ambiguous. \"\u001b[0m\u001b[1;33m\u001b[0m\u001b[1;33m\u001b[0m\u001b[0m\n\u001b[0;32m   1443\u001b[0m             \u001b[1;34m\"Use a.empty, a.bool(), a.item(), a.any() or a.all().\"\u001b[0m\u001b[1;33m\u001b[0m\u001b[1;33m\u001b[0m\u001b[0m\n",
      "\u001b[1;31mValueError\u001b[0m: The truth value of a GeoSeries is ambiguous. Use a.empty, a.bool(), a.item(), a.any() or a.all()."
     ]
    }
   ],
   "source": [
    "geemap.get_center(greece, north_up=True, transform=None)"
   ]
  },
  {
   "cell_type": "raw",
   "id": "d9441d85",
   "metadata": {},
   "source": [
    "# https://gis.stackexchange.com/questions/269243/creating-polygon-grid-using-geopandas\n",
    "import geopandas as gpd\n",
    "from shapely.geometry import Polygon\n",
    "import numpy as np\n",
    "points = gpd.read_file('points.shp')\n",
    "\n",
    "xmin, ymin, xmax, ymax = points.total_bounds\n",
    "\n",
    "length = 1000\n",
    "wide = 1200\n",
    "\n",
    "cols = list(np.arange(xmin, xmax + wide, wide))\n",
    "rows = list(np.arange(ymin, ymax + length, length))\n",
    "\n",
    "polygons = []\n",
    "for x in cols[:-1]:\n",
    "    for y in rows[:-1]:\n",
    "        polygons.append(Polygon([(x,y), (x+wide, y), (x+wide, y+length), (x, y+length)]))\n",
    "\n",
    "grid = gpd.GeoDataFrame({'geometry':polygons})\n",
    "grid.to_file(\"grid.shp\")"
   ]
  },
  {
   "cell_type": "code",
   "execution_count": 383,
   "id": "18ef573d",
   "metadata": {},
   "outputs": [],
   "source": [
    "# Auta einai methodoi pou eida gia na kanw to grid, gia kapoio logo de douleuoun"
   ]
  },
  {
   "cell_type": "code",
   "execution_count": 110,
   "id": "ceb0df8a",
   "metadata": {},
   "outputs": [],
   "source": [
    "# IMPROVE THE ONE I USE NOW EVENTUALLY WITH THIS RECURSIVE METHOD\n",
    "#https://snorfalorpagus.net/blog/2016/03/13/splitting-large-polygons-for-faster-intersections/"
   ]
  },
  {
   "cell_type": "raw",
   "id": "bbbf8bc6",
   "metadata": {},
   "source": [
    "from shapely.geometry import box, Polygon, MultiPolygon, GeometryCollection\n",
    "\n",
    "def katana(geometry, threshold, count=0):\n",
    "    \"\"\"Split a Polygon into two parts across it's shortest dimension\"\"\"\n",
    "    bounds = geometry.bounds\n",
    "    width = bounds.maxx - bounds.minx\n",
    "    height = bounds.maxy - bounds.miny\n",
    "    if (np.logical_or(max(width.values, height.values) <= threshold, count == 10)):\n",
    "        # either the polygon is smaller than the threshold, or the maximum\n",
    "        # number of recursions has been reached\n",
    "        return [geometry]\n",
    "    if height.values >= width.values:\n",
    "        # split left to right\n",
    "        a = box(bounds.minx, bounds.miny, bounds.maxx, bounds.miny+height/2)\n",
    "        b = box(bounds.minx, bounds.miny + height/2, bounds.maxx, bounds.maxy)\n",
    "    else:\n",
    "        # split top to bottom\n",
    "        a = box(bounds.minx, bounds.miny, bounds.minx+width/2, bounds.maxy)\n",
    "        b = box(bounds.mix+width/2, bounds.miny, bounds.maxx, bounds.maxy)\n",
    "    result = []\n",
    "    for d in (a, b,):\n",
    "        c = geometry.intersection(d)\n",
    "        if not isinstance(c, GeometryCollection):\n",
    "            c = [c]\n",
    "        for e in c:\n",
    "            if isinstance(e, (Polygon, MultiPolygon)):\n",
    "                result.extend(katana(e, threshold, count+1))\n",
    "    if count > 0:\n",
    "        return result\n",
    "    # convert multipart into singlepart\n",
    "    final_result = []\n",
    "    for g in result:\n",
    "        if isinstance(g, MultiPolygon):\n",
    "            final_result.extend(g)\n",
    "        else:\n",
    "            final_result.append(g)\n",
    "    return final_result\n",
    "katana(volos_1, 1, count=0)"
   ]
  },
  {
   "cell_type": "code",
   "execution_count": 219,
   "id": "21000fbf",
   "metadata": {},
   "outputs": [],
   "source": []
  },
  {
   "cell_type": "raw",
   "id": "124e365e",
   "metadata": {},
   "source": [
    "from geojsplit import geojsplit\n",
    "\n",
    "geojson = geojsplit.GeoJSONBatchStreamer(\"./data/geojson/volos_1.geojson\")\n",
    "\n",
    "#for feature_collection in geojson.stream():\n",
    "    #do_something(feature_collection)\n",
    "    #...\n",
    "    \n",
    "    \n",
    "g = geojson.stream(batch=3)  # instatiate generator object\n",
    "data = next(g)\n",
    "\n",
    "print((data[\"features\"]))\n"
   ]
  },
  {
   "cell_type": "raw",
   "id": "c97ce797",
   "metadata": {
    "scrolled": false
   },
   "source": [
    "xmin, ymin, xmax, ymax = volos_1.total_bounds\n",
    "print('xmin:  ',xmin)\n",
    "print('xymin:  ',ymin)\n",
    "print('xmax:  ',xmax)\n",
    "print('ymax:  ',ymax)"
   ]
  },
  {
   "cell_type": "raw",
   "id": "0b70080a",
   "metadata": {},
   "source": [
    "import geopandas as gpd\n",
    "from shapely.geometry import Polygon\n",
    "import numpy as np\n",
    "#points = gpd.read_file('points.shp')\n",
    "\n",
    "xmin, ymin, xmax, ymax = volos_1.total_bounds\n",
    "\n",
    "length = 1000\n",
    "wide = 1200\n",
    "\n",
    "cols = list(np.arange(xmin, xmax + wide, wide))\n",
    "rows = list(np.arange(ymin, ymax + length, length))\n",
    "\n",
    "polygons = []\n",
    "for x in cols[:-1]:\n",
    "    for y in rows[:-1]:\n",
    "        polygons.append(Polygon([(x,y), (x+wide, y), (x+wide, y+length), (x, y+length)]))\n",
    "\n",
    "grid = gpd.GeoDataFrame({'geometry':polygons})\n",
    "grid.to_file(\"./data/split/grid.zip\")"
   ]
  },
  {
   "cell_type": "raw",
   "id": "4277edcf",
   "metadata": {},
   "source": [
    " 'geometry_col'='geometry',"
   ]
  },
  {
   "cell_type": "raw",
   "id": "81b52142",
   "metadata": {
    "scrolled": false
   },
   "source": [
    "def create_hexgrid(polygon, hex_res, map_zoom=12, buffer=0.000,\n",
    "                   stroke_weight=0.5, stroke_color='blue', plot=True):\n",
    "    \"\"\" Takes in a geopandas geodataframe, the desired resolution, the specified geometry column\n",
    "        and some map parameters to create a hexagon grid (and potentially plot the hexgrid\n",
    "    \"\"\"\n",
    "    centroid = list(polygon.centroid.values[0].coords)[0]\n",
    "    fol_map = folium.Map(location=[centroid[1], centroid[0]], zoom_start=map_zoom,\n",
    "                         tiles='cartodbpositron')\n",
    "\n",
    "    # Explode multipolygon into individual polygons\n",
    "    exploded = polygon.explode().reset_index(drop=True)\n",
    "\n",
    "    # Master lists for geodataframe\n",
    "    hexagon_polygon_list = []\n",
    "    hexagon_geohash_list = []\n",
    "\n",
    "    # For each exploded polygon\n",
    "    for poly in exploded[geometry].values:\n",
    "\n",
    "        # Reverse coords for original polygon\n",
    "        coords = list(poly.exterior.coords)\n",
    "        reversed_coords = []\n",
    "        for i in coords:\n",
    "            reversed_coords.append([i[1], i[0]])\n",
    "\n",
    "        # Reverse coords for buffered polygon\n",
    "        buffer_poly = poly.buffer(buffer)\n",
    "        buffer_coords = list(buffer_poly.exterior.coords)\n",
    "        reversed_buffer_coords = []\n",
    "        for i in buffer_coords:\n",
    "            reversed_buffer_coords.append([i[1], i[0]])\n",
    "\n",
    "        # Format input to the way H3 expects it\n",
    "        aoi_input = {'type': 'Polygon', 'coordinates': [reversed_buffer_coords]}\n",
    "\n",
    "        # Add polygon outline to map\n",
    "        outline = reversed_coords\n",
    "        outline.append(outline[0])\n",
    "        outline = folium.PolyLine(locations=outline, weight=1, color='black')\n",
    "        fol_map.add_child(outline)\n",
    "\n",
    "        # Generate list geohashes filling the AOI\n",
    "        geohashes = list(h3.polyfill(aoi_input, hex_res))\n",
    "\n",
    "        # Generate hexagon polylines for Folium\n",
    "        polylines = []\n",
    "        lat = []\n",
    "        lng = []\n",
    "        for geohash in geohashes:\n",
    "            polygons = h3.h3_set_to_multi_polygon([geohash], geo_json=False)\n",
    "            outlines = [loop for polygon in polygons for loop in polygon]\n",
    "            polyline = [outline + [outline[0]] for outline in outlines][0]\n",
    "            lat.extend(map(lambda x: x[0], polyline))\n",
    "            lng.extend(map(lambda x: x[1], polyline))\n",
    "            polylines.append(polyline)\n",
    "            hexagon_geohash_list.append(geohash)\n",
    "\n",
    "        # Add the hexagon polylines to Folium map\n",
    "        for polyline in polylines:\n",
    "            my_polyline = folium.PolyLine(locations=polyline, weight=stroke_weight,\n",
    "                                          color=stroke_color)\n",
    "            fol_map.add_child(my_polyline)\n",
    "\n",
    "        # Generate hexagon polygons for Shapely\n",
    "        for geohash in geohashes:\n",
    "            polygons = h3.h3_set_to_multi_polygon([geohash], geo_json=True)\n",
    "            outlines = [loop for polygon in polygons for loop in polygon]\n",
    "            polyline_geojson = [outline + [outline[0]] for outline in outlines][0]\n",
    "            hexagon_polygon_list.append(shapely.geometry.Polygon(polyline_geojson))\n",
    "\n",
    "    if plot:\n",
    "        display(fol_map)\n",
    "\n",
    "    # Create a geodataframe containing the hexagon geometries and hashes\n",
    "    hexgrid_gdf = gpd.GeoDataFrame()\n",
    "    hexgrid_gdf['geometry'] = hexagon_polygon_list\n",
    "    id_col_name = 'hex_id_' + str(hex_res)\n",
    "    hexgrid_gdf[id_col_name] = hexagon_geohash_list\n",
    "    hexgrid_gdf.crs = {'init' :'epsg:4326'}\n",
    "\n",
    "    # Drop duplicate geometries\n",
    "    geoms_wkb = hexgrid_gdf[\"geometry\"].apply(lambda geom: geom.wkb)\n",
    "    hexgrid_gdf = hexgrid_gdf.loc[geoms_wkb.drop_duplicates().index]\n",
    "\n",
    "    return hexgrid_gdf\n",
    "#create_hexgrid(user['geometry'],2)"
   ]
  },
  {
   "cell_type": "raw",
   "id": "dc3e737b",
   "metadata": {},
   "source": [
    "b =gdf.to_json()"
   ]
  },
  {
   "cell_type": "code",
   "execution_count": 419,
   "id": "52ce1230",
   "metadata": {
    "scrolled": false
   },
   "outputs": [],
   "source": [
    "\n",
    "#gdf = gpd.read_file(\"./data/geojson/gdf.geojson\")\n",
    "#h3.polyfill(user['geometry']v, 5, geo_json_conformant=False)"
   ]
  },
  {
   "cell_type": "raw",
   "id": "390311e4",
   "metadata": {},
   "source": [
    "gdf = gpd.GeoDataFrame(volos_1, crs=\"EPSG:4326\")\n",
    "gdf.to_file('./data/geojson/gdf.geojson', driver=\"GeoJSON\")  "
   ]
  },
  {
   "cell_type": "raw",
   "id": "dc5d0da9",
   "metadata": {},
   "source": [
    "gdf = gpd.read_file(\"./data/geojson/volos_fil.geojson\")\n",
    "gdf = gpd.GeoDataFrame(gdf, crs=\"EPSG:4326\")"
   ]
  },
  {
   "cell_type": "raw",
   "id": "3eee063b",
   "metadata": {},
   "source": [
    "gdf['geometry']"
   ]
  },
  {
   "cell_type": "raw",
   "id": "93ac7e00",
   "metadata": {
    "scrolled": false
   },
   "source": [
    "from shapely.prepared import prep\n",
    "from shapely.geometry import shape\n",
    "# determine maximum edges\n",
    "polygon = shape(greece_gdf)\n",
    "latmin, lonmin, latmax, lonmax = polygon.bounds\n",
    "\n",
    "# create prepared polygon\n",
    "prep_polygon = prep(polygon)\n",
    "\n",
    "# construct a rectangular mesh\n",
    "points = []\n",
    "for lat in np.arange(latmin, latmax, resolution):\n",
    "    for lon in np.arange(lonmin, lonmax, resolution):\n",
    "        points.append(Point((round(lat,4), round(lon,4))))\n",
    "\n",
    "# validate if each point falls inside shape using\n",
    "# the prepared polygon\n",
    "valid_points.extend(filter(prep_polygon.contains, points))"
   ]
  },
  {
   "cell_type": "raw",
   "id": "43ef6a51",
   "metadata": {
    "scrolled": true
   },
   "source": [
    "gdf = gpd.read_file(\"./data/geojson/gdf.geojson\")\n",
    "type(gdf)"
   ]
  },
  {
   "cell_type": "raw",
   "id": "d73d41c8",
   "metadata": {},
   "source": [
    "with open('./data/geojson/volos_fil.geojson') as json_file:\n",
    "    data = json.load(json_file)\n",
    "    print(data)"
   ]
  },
  {
   "cell_type": "raw",
   "id": "e2df3497",
   "metadata": {},
   "source": [
    "def h3_fill_shapely_poly(poly = shape, res = 10):\n",
    "        \"\"\"\n",
    "        inputs:\n",
    "               - poly: must be a shapely Polygon, cannot be any other shapely object\n",
    "               - res: resolution (higher means more specific zoom)\n",
    "        output:\n",
    "               - h3_fill: a Python set() object, generated by polypill\n",
    "        \"\"\"\n",
    "        coordinates = [[i[0], i[1]] for i in poly.exterior.coords]\n",
    "        geo_json = {\n",
    "                \"type\": \"Polygon\",\n",
    "                \"coordinates\": [coordinates]\n",
    "        }\n",
    "        h3_fill = h3.polyfill(geo_json, res, geo_json_conformant=True)\n",
    "        print(f'h3_fill =\\n{type(h3_fill), h3_fill}')\n",
    "        return h3_fill\n",
    "h3_fill_shapely_poly(ak_exp_gdf['geometry'].values[0])"
   ]
  },
  {
   "cell_type": "code",
   "execution_count": 48,
   "id": "e0321ec7",
   "metadata": {},
   "outputs": [],
   "source": [
    "# After selecter roi, split it"
   ]
  }
 ],
 "metadata": {
  "kernelspec": {
   "display_name": "Python 3 (ipykernel)",
   "language": "python",
   "name": "python3"
  },
  "language_info": {
   "codemirror_mode": {
    "name": "ipython",
    "version": 3
   },
   "file_extension": ".py",
   "mimetype": "text/x-python",
   "name": "python",
   "nbconvert_exporter": "python",
   "pygments_lexer": "ipython3",
   "version": "3.9.1"
  },
  "latex_envs": {
   "LaTeX_envs_menu_present": true,
   "autoclose": false,
   "autocomplete": true,
   "bibliofile": "biblio.bib",
   "cite_by": "apalike",
   "current_citInitial": 1,
   "eqLabelWithNumbers": true,
   "eqNumInitial": 1,
   "hotkeys": {
    "equation": "Ctrl-E",
    "itemize": "Ctrl-I"
   },
   "labels_anchors": false,
   "latex_user_defs": false,
   "report_style_numbering": false,
   "user_envs_cfg": false
  }
 },
 "nbformat": 4,
 "nbformat_minor": 5
}
